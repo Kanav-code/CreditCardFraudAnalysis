{
 "cells": [
  {
   "cell_type": "markdown",
   "metadata": {},
   "source": [
    "### <font color='red'> Project 2\n",
    "\n",
    "Project Description:\n",
    "- Use same datasets as Project 1.\n",
    "- Preprocess data: Explore data and apply data scaling.\n",
    "\n",
    "Regression Task:\n",
    "- Apply any two models with bagging and any two models with pasting.\n",
    "- Apply any two models with adaboost boosting\n",
    "- Apply one model with gradient boosting\n",
    "- Apply PCA on data and then apply all the models in project 1 again on data you get from PCA. Compare your results with results in project 2. You don't need to apply all the models twice. Just copy the result table from project 1, prepare similar table for all the models after PCA and compare both tables. Does PCA help in getting better results?\n",
    "- Apply deep learning models covered in class\n",
    "\n",
    "Classification Task:\n",
    "- Apply two voting classifiers - one with hard voting and one with soft voting\n",
    "- Apply any two models with bagging and any two models with pasting.\n",
    "- Apply any two models with adaboost boosting\n",
    "- Apply one model with gradient boosting\n",
    "- Apply PCA on data and then apply all the models in project 1 again on data you get from PCA. Compare your results with results in project 1. You don't need to apply all the models twice. Just copy the result table from project 1, prepare similar table for all the models after PCA and compare both tables. Does PCA help in getting better results?\n",
    "- Apply deep learning models covered in class\n",
    "\n",
    "Deliverables:\n",
    "- Use markdown to provide inline comments for this project.\n",
    "- Your outputs should be clearly executed in the notebook i.e. we should not need to rerun the code to obtain the outputs.\n",
    "- Visualization encouraged.\n",
    "- If you are submitting two different files, then please only one group member submit both the files. If you submit two files separately from different accounts, it will be submitted as two different attempts.\n",
    "- If you are submitting two different files, then please follow below naming convetion:\n",
    "    Project2_Regression_GroupXX_Firstname1_Firstname2.ipynb\n",
    "    Project2_Classification_GroupXX_Firstname1_Firstname2.ipynb\n",
    "- If you are submitting single file, then please follow below naming convetion:\n",
    "    Project2_Both_GroupXX_Firstname1_Firstname2.ipynb\n",
    "\n",
    "Questions regarding the project:\n",
    "- We have created a discussion board under Projects folder on e-learning. Create threads over there and post your queries related to project there.\n",
    "- We will also answer queries there. We will not be answering any project related queries through the mail."
   ]
  },
  {
   "cell_type": "markdown",
   "metadata": {},
   "source": [
    "<center><h1 style=\"font-size:30px; LINE-HEIGHT:0px\">Project 2 - Regression Task<h1 style=\"font-size:30px; LINE-HEIGHT:0px\"></center>\n",
    "<center><h1 style=\"font-size:20px; LINE-HEIGHT:0px\"> Machine Learning Fall 2019 <h1 style=\"font-size:20px; LINE-HEIGHT:0px\"></center>\n",
    "<center><h1 style=\"font-size:20px; LINE-HEIGHT:0px\">Ankit Singhai and Kanav Kaushal<h1 style=\"font-size:20px; LINE-HEIGHT:0px\"></center>"
   ]
  },
  {
   "cell_type": "markdown",
   "metadata": {},
   "source": [
    "__About the dataset:__ \n",
    "\n",
    "The dataset consists of 22 Columns and 2938 rows which meant 20 predicting variables. All predicting variables was then divided into several broad categories:Immunization related factors, Mortality factors, Economical factors and Social factors.\n",
    "\n",
    "<b>Columns</b>\n",
    "\n",
    "\n",
    "   1. <b>Country</b>: Country\n",
    "   2. <b>Year</b>: Year\n",
    "   3. <b>Status</b>: Developed or Developing status\n",
    "   4. <b>Life expectancy</b>: Life Expectancy in age\n",
    "   5. <b>Adult Mortality</b>: Adult Mortality Rates of both sexes (probability of dying between 15 and 60 years per 1000 population)\n",
    "   6. <b>infant deaths</b>: Number of Infant Deaths per 1000 population\n",
    "   7. <b>Alcohol</b>: Alcohol, recorded per capita (15+) consumption (in litres of pure alcohol)\n",
    "   8. <b>percentage expenditure</b>: Expenditure on health as a percentage of Gross Domestic Product per capita(%)\n",
    "   9. <b>Hepatitis B</b>: Hepatitis B (HepB) immunization coverage among 1-year-olds (%)\n",
    "   10. <b>Measles</b>: Measles - number of reported cases per 1000 population\n",
    "   11. <b>BMI</b>: Average Body Mass Index of entire population\n",
    "   12. <b>under-five deaths</b>: Number of under-five deaths per 1000 population\n",
    "   13. <b>Polio</b>: Polio (Pol3) immunization coverage among 1-year-olds (%)\n",
    "   14. <b>Total expenditure</b>: General government expenditure on health as a percentage of total government expenditure (%)\n",
    "   15. <b>Diphtheria</b>: Diphtheria tetanus toxoid and pertussis (DTP3) immunization coverage among 1-year-olds (%)\n",
    "   16. <b>HIV/AIDS</b>: Deaths per 1 000 live births HIV/AIDS (0-4 years)\n",
    "   17. <b>GDP</b>: Gross Domestic Product per capita (in USD)\n",
    "   18. <b>Population</b>: Population of the country\n",
    "   19. <b>thinness 1-19 years</b>: Prevalence of thinness among children and adolescents for Age 10 to 19 (% )\n",
    "   20. <b>thinness 5-9 years</b>: Prevalence of thinness among children for Age 5 to 9(%)\n",
    "   21. <b>Income composition of resources</b>: Human Development Index in terms of income composition of resources (index ranging from 0 to 1)\n",
    "   22. <b>Schooling</b>: Number of years of Schooling(years)\n",
    "\n",
    "The data set can be found at:\n",
    "https://www.kaggle.com/kumarajarshi/life-expectancy-who"
   ]
  },
  {
   "cell_type": "markdown",
   "metadata": {},
   "source": [
    "<b>Importing Libraries</b>"
   ]
  },
  {
   "cell_type": "code",
   "execution_count": 1,
   "metadata": {},
   "outputs": [],
   "source": [
    "import numpy as np\n",
    "import pandas as pd\n",
    "import matplotlib.pyplot as plt\n",
    "import seaborn as sns\n",
    "from pandas.plotting import scatter_matrix\n",
    "%matplotlib inline\n",
    "\n",
    "#For model evaluation and development\n",
    "\n",
    "from sklearn.model_selection import train_test_split,cross_val_score\n",
    "from sklearn.preprocessing import MinMaxScaler,StandardScaler\n",
    "from sklearn.model_selection import GridSearchCV\n",
    "from sklearn.metrics import r2_score\n",
    "from sklearn import linear_model\n",
    "from sklearn.metrics import mean_squared_error\n",
    "\n",
    "from sklearn.linear_model import LinearRegression\n",
    "from sklearn.neighbors import KNeighborsRegressor\n",
    "from  sklearn.linear_model import Ridge\n",
    "from sklearn.linear_model import Lasso\n",
    "from  sklearn.preprocessing  import PolynomialFeatures\n",
    "from sklearn.tree import DecisionTreeRegressor\n",
    "from sklearn.svm import LinearSVR\n",
    "from sklearn.svm import SVR\n",
    "\n",
    "import warnings\n",
    "warnings.filterwarnings('ignore')"
   ]
  },
  {
   "cell_type": "markdown",
   "metadata": {},
   "source": [
    "<b> Load Data: </b>EDA and data preprocessing was handled in project 1, so we are simply importing the prepared data for use in project 2"
   ]
  },
  {
   "cell_type": "code",
   "execution_count": 2,
   "metadata": {},
   "outputs": [],
   "source": [
    "life_updated =pd.read_csv(\"life_csv.csv\")"
   ]
  },
  {
   "cell_type": "code",
   "execution_count": 3,
   "metadata": {},
   "outputs": [
    {
     "data": {
      "text/plain": [
       "(2938, 21)"
      ]
     },
     "execution_count": 3,
     "metadata": {},
     "output_type": "execute_result"
    }
   ],
   "source": [
    "life_updated.shape"
   ]
  },
  {
   "cell_type": "code",
   "execution_count": 4,
   "metadata": {},
   "outputs": [
    {
     "data": {
      "text/html": [
       "<div>\n",
       "<style scoped>\n",
       "    .dataframe tbody tr th:only-of-type {\n",
       "        vertical-align: middle;\n",
       "    }\n",
       "\n",
       "    .dataframe tbody tr th {\n",
       "        vertical-align: top;\n",
       "    }\n",
       "\n",
       "    .dataframe thead th {\n",
       "        text-align: right;\n",
       "    }\n",
       "</style>\n",
       "<table border=\"1\" class=\"dataframe\">\n",
       "  <thead>\n",
       "    <tr style=\"text-align: right;\">\n",
       "      <th></th>\n",
       "      <th>Year</th>\n",
       "      <th>Status</th>\n",
       "      <th>Life_Expectancy</th>\n",
       "      <th>Adult_Mortality</th>\n",
       "      <th>Infant_Deaths</th>\n",
       "      <th>Alcohol</th>\n",
       "      <th>Percentage_Exp</th>\n",
       "      <th>Hepatitis_B</th>\n",
       "      <th>Measles</th>\n",
       "      <th>BMI</th>\n",
       "      <th>...</th>\n",
       "      <th>Polio</th>\n",
       "      <th>Total_Exp</th>\n",
       "      <th>Diphtheria</th>\n",
       "      <th>HIV/AIDS</th>\n",
       "      <th>GDP</th>\n",
       "      <th>Population</th>\n",
       "      <th>thinness_1_to_19</th>\n",
       "      <th>thinness_5_to_9</th>\n",
       "      <th>Income_Composition</th>\n",
       "      <th>Schooling</th>\n",
       "    </tr>\n",
       "  </thead>\n",
       "  <tbody>\n",
       "    <tr>\n",
       "      <th>0</th>\n",
       "      <td>2015</td>\n",
       "      <td>0</td>\n",
       "      <td>65.0</td>\n",
       "      <td>263.0</td>\n",
       "      <td>62</td>\n",
       "      <td>0.01</td>\n",
       "      <td>71.279624</td>\n",
       "      <td>65.0</td>\n",
       "      <td>1154</td>\n",
       "      <td>19.1</td>\n",
       "      <td>...</td>\n",
       "      <td>6.0</td>\n",
       "      <td>8.16</td>\n",
       "      <td>65.0</td>\n",
       "      <td>0.1</td>\n",
       "      <td>584.259210</td>\n",
       "      <td>33736494.0</td>\n",
       "      <td>17.2</td>\n",
       "      <td>17.3</td>\n",
       "      <td>0.479</td>\n",
       "      <td>10.1</td>\n",
       "    </tr>\n",
       "    <tr>\n",
       "      <th>1</th>\n",
       "      <td>2014</td>\n",
       "      <td>0</td>\n",
       "      <td>59.9</td>\n",
       "      <td>271.0</td>\n",
       "      <td>64</td>\n",
       "      <td>0.01</td>\n",
       "      <td>73.523582</td>\n",
       "      <td>62.0</td>\n",
       "      <td>492</td>\n",
       "      <td>18.6</td>\n",
       "      <td>...</td>\n",
       "      <td>58.0</td>\n",
       "      <td>8.18</td>\n",
       "      <td>62.0</td>\n",
       "      <td>0.1</td>\n",
       "      <td>612.696514</td>\n",
       "      <td>327582.0</td>\n",
       "      <td>17.5</td>\n",
       "      <td>17.5</td>\n",
       "      <td>0.476</td>\n",
       "      <td>10.0</td>\n",
       "    </tr>\n",
       "    <tr>\n",
       "      <th>2</th>\n",
       "      <td>2013</td>\n",
       "      <td>0</td>\n",
       "      <td>59.9</td>\n",
       "      <td>268.0</td>\n",
       "      <td>66</td>\n",
       "      <td>0.01</td>\n",
       "      <td>73.219243</td>\n",
       "      <td>64.0</td>\n",
       "      <td>430</td>\n",
       "      <td>18.1</td>\n",
       "      <td>...</td>\n",
       "      <td>62.0</td>\n",
       "      <td>8.13</td>\n",
       "      <td>64.0</td>\n",
       "      <td>0.1</td>\n",
       "      <td>631.744976</td>\n",
       "      <td>31731688.0</td>\n",
       "      <td>17.7</td>\n",
       "      <td>17.7</td>\n",
       "      <td>0.470</td>\n",
       "      <td>9.9</td>\n",
       "    </tr>\n",
       "    <tr>\n",
       "      <th>3</th>\n",
       "      <td>2012</td>\n",
       "      <td>0</td>\n",
       "      <td>59.5</td>\n",
       "      <td>272.0</td>\n",
       "      <td>69</td>\n",
       "      <td>0.01</td>\n",
       "      <td>78.184215</td>\n",
       "      <td>67.0</td>\n",
       "      <td>2787</td>\n",
       "      <td>17.6</td>\n",
       "      <td>...</td>\n",
       "      <td>67.0</td>\n",
       "      <td>8.52</td>\n",
       "      <td>67.0</td>\n",
       "      <td>0.1</td>\n",
       "      <td>669.959000</td>\n",
       "      <td>3696958.0</td>\n",
       "      <td>17.9</td>\n",
       "      <td>18.0</td>\n",
       "      <td>0.463</td>\n",
       "      <td>9.8</td>\n",
       "    </tr>\n",
       "    <tr>\n",
       "      <th>4</th>\n",
       "      <td>2011</td>\n",
       "      <td>0</td>\n",
       "      <td>59.2</td>\n",
       "      <td>275.0</td>\n",
       "      <td>71</td>\n",
       "      <td>0.01</td>\n",
       "      <td>7.097109</td>\n",
       "      <td>68.0</td>\n",
       "      <td>3013</td>\n",
       "      <td>17.2</td>\n",
       "      <td>...</td>\n",
       "      <td>68.0</td>\n",
       "      <td>7.87</td>\n",
       "      <td>68.0</td>\n",
       "      <td>0.1</td>\n",
       "      <td>63.537231</td>\n",
       "      <td>2978599.0</td>\n",
       "      <td>18.2</td>\n",
       "      <td>18.2</td>\n",
       "      <td>0.454</td>\n",
       "      <td>9.5</td>\n",
       "    </tr>\n",
       "  </tbody>\n",
       "</table>\n",
       "<p>5 rows × 21 columns</p>\n",
       "</div>"
      ],
      "text/plain": [
       "   Year  Status  Life_Expectancy  Adult_Mortality  Infant_Deaths  Alcohol  \\\n",
       "0  2015       0             65.0            263.0             62     0.01   \n",
       "1  2014       0             59.9            271.0             64     0.01   \n",
       "2  2013       0             59.9            268.0             66     0.01   \n",
       "3  2012       0             59.5            272.0             69     0.01   \n",
       "4  2011       0             59.2            275.0             71     0.01   \n",
       "\n",
       "   Percentage_Exp  Hepatitis_B  Measles   BMI  ...  Polio  Total_Exp  \\\n",
       "0       71.279624         65.0     1154  19.1  ...    6.0       8.16   \n",
       "1       73.523582         62.0      492  18.6  ...   58.0       8.18   \n",
       "2       73.219243         64.0      430  18.1  ...   62.0       8.13   \n",
       "3       78.184215         67.0     2787  17.6  ...   67.0       8.52   \n",
       "4        7.097109         68.0     3013  17.2  ...   68.0       7.87   \n",
       "\n",
       "   Diphtheria  HIV/AIDS         GDP  Population  thinness_1_to_19  \\\n",
       "0        65.0       0.1  584.259210  33736494.0              17.2   \n",
       "1        62.0       0.1  612.696514    327582.0              17.5   \n",
       "2        64.0       0.1  631.744976  31731688.0              17.7   \n",
       "3        67.0       0.1  669.959000   3696958.0              17.9   \n",
       "4        68.0       0.1   63.537231   2978599.0              18.2   \n",
       "\n",
       "   thinness_5_to_9  Income_Composition  Schooling  \n",
       "0             17.3               0.479       10.1  \n",
       "1             17.5               0.476       10.0  \n",
       "2             17.7               0.470        9.9  \n",
       "3             18.0               0.463        9.8  \n",
       "4             18.2               0.454        9.5  \n",
       "\n",
       "[5 rows x 21 columns]"
      ]
     },
     "execution_count": 4,
     "metadata": {},
     "output_type": "execute_result"
    }
   ],
   "source": [
    "life_updated.head()"
   ]
  },
  {
   "cell_type": "code",
   "execution_count": 5,
   "metadata": {},
   "outputs": [],
   "source": [
    "X = life_updated.drop(['Life_Expectancy'],axis =1)\n",
    "y = life_updated['Life_Expectancy']\n",
    "\n",
    "X_train_org, X_test_org, y_train, y_test = train_test_split(X ,y, random_state = 0, test_size=0.3)\n",
    "\n",
    "scaler = MinMaxScaler()\n",
    "X_train = scaler.fit_transform(X_train_org)\n",
    "X_test = scaler.transform(X_test_org)"
   ]
  },
  {
   "cell_type": "markdown",
   "metadata": {},
   "source": [
    "<h2>Bagging</h2>"
   ]
  },
  {
   "cell_type": "markdown",
   "metadata": {},
   "source": [
    "<h3>1. Bagging with Decision Tree Regressor</h3>"
   ]
  },
  {
   "cell_type": "markdown",
   "metadata": {},
   "source": [
    "<b><i>Grid Search to find best parameter for Decision Tree Regressor</i></b>"
   ]
  },
  {
   "cell_type": "code",
   "execution_count": 6,
   "metadata": {},
   "outputs": [
    {
     "name": "stdout",
     "output_type": "stream",
     "text": [
      "Best parameters: {'max_depth': 9, 'min_samples_leaf': 5}\n",
      "Best cross-validation score: 0.92\n"
     ]
    }
   ],
   "source": [
    "from sklearn.model_selection import GridSearchCV\n",
    "from sklearn.tree import DecisionTreeRegressor\n",
    "\n",
    "dtree_param_grid = {'max_depth' : range(1,10),'min_samples_leaf' : range(1,10)}\n",
    "\n",
    "grid_search = GridSearchCV(DecisionTreeRegressor(random_state=0), param_grid = dtree_param_grid , return_train_score=True, n_jobs= -1)\n",
    "grid_search.fit(X_train, y_train)\n",
    "\n",
    "print(\"Best parameters: {}\".format(grid_search.best_params_))\n",
    "print(\"Best cross-validation score: {:.2f}\".format(grid_search.best_score_))"
   ]
  },
  {
   "cell_type": "markdown",
   "metadata": {},
   "source": [
    "<b><i>Grid Seaarch to find best parameter for Bagging Regressor</i></b>"
   ]
  },
  {
   "cell_type": "code",
   "execution_count": 8,
   "metadata": {},
   "outputs": [
    {
     "name": "stdout",
     "output_type": "stream",
     "text": [
      "Best parameters: {'max_samples': 500, 'n_estimators': 500}\n",
      "Best cross-validation score: 0.94\n"
     ]
    }
   ],
   "source": [
    "from sklearn.model_selection import GridSearchCV\n",
    "from sklearn.ensemble import BaggingRegressor\n",
    "\n",
    "\n",
    "param_grid = {'n_estimators': [50,100,200,500],\n",
    "              'max_samples': [50,100,200,400,500]}\n",
    "\n",
    "grid_search = GridSearchCV(BaggingRegressor(), param_grid, cv=10, return_train_score=True, n_jobs= -1)\n",
    "grid_search.fit(X_train, y_train)\n",
    "print(\"Best parameters: {}\".format(grid_search.best_params_))\n",
    "print(\"Best cross-validation score: {:.2f}\".format(grid_search.best_score_))"
   ]
  },
  {
   "cell_type": "markdown",
   "metadata": {},
   "source": [
    "<b><i>Rebuilding the model with best parameters</i></b>"
   ]
  },
  {
   "cell_type": "code",
   "execution_count": 10,
   "metadata": {},
   "outputs": [
    {
     "name": "stdout",
     "output_type": "stream",
     "text": [
      "Traing Score: 94.5381%\n",
      "Test Score: 92.8390%\n",
      "\n",
      "MAE: 1.7792153684305996\n",
      "MSE: 6.389900939002158\n",
      "RMSE: 2.5278253379144213\n",
      "r2_Score: 0.9283901445724623\n"
     ]
    }
   ],
   "source": [
    "from sklearn import metrics\n",
    "\n",
    "dt_reg = DecisionTreeRegressor(max_depth= 9, min_samples_leaf= 5, random_state= 0)\n",
    "\n",
    "bag_reg = BaggingRegressor(dt_reg, max_features= 9, n_estimators= 500, max_samples=500, random_state=0, bootstrap = True)\n",
    "bag_reg.fit(X_train, y_train)\n",
    "y_pred_reg = bag_reg.predict(X_test)\n",
    "print('Traing Score: {:.4f}%'.format(bag_reg.score(X_train, y_train)*100))\n",
    "print(\"Test Score: {:.4f}%\".format(bag_reg.score(X_test, y_test)*100))\n",
    "\n",
    "print()\n",
    "print('MAE:', metrics.mean_absolute_error(y_test, y_pred_reg))\n",
    "print('MSE:', metrics.mean_squared_error(y_test, y_pred_reg))\n",
    "print('RMSE:', np.sqrt(metrics.mean_squared_error(y_test, y_pred_reg)))\n",
    "print(\"r2_Score:\",r2_score(y_test, y_pred_reg))"
   ]
  },
  {
   "cell_type": "markdown",
   "metadata": {},
   "source": [
    "<h3>2. Bagging with KNN Regressor</h3>"
   ]
  },
  {
   "cell_type": "markdown",
   "metadata": {},
   "source": [
    "<b><i>Grid Search to find best parameter for KNN Regressor</i></b>"
   ]
  },
  {
   "cell_type": "code",
   "execution_count": 13,
   "metadata": {},
   "outputs": [
    {
     "name": "stdout",
     "output_type": "stream",
     "text": [
      "Best parameters: {'n_neighbors': 5, 'p': 1, 'weights': 'distance'}\n",
      "Best cross-validation score: 0.93\n"
     ]
    }
   ],
   "source": [
    "knn_param_grid = {'n_neighbors' : range(1,20), 'p': [1,2], 'weights': ['distance','uniform']}\n",
    "\n",
    "grid_knn = GridSearchCV(KNeighborsRegressor(), param_grid = knn_param_grid, cv=10, return_train_score=True, n_jobs= -1)\n",
    "grid_knn.fit(X_train, y_train)\n",
    "\n",
    "print(\"Best parameters: {}\".format(grid_knn.best_params_))\n",
    "print(\"Best cross-validation score: {:.2f}\".format(grid_knn.best_score_))"
   ]
  },
  {
   "cell_type": "markdown",
   "metadata": {},
   "source": [
    "<b><i>Grid search to find best parameter for Bagging Regressor</i></b>"
   ]
  },
  {
   "cell_type": "code",
   "execution_count": 15,
   "metadata": {},
   "outputs": [
    {
     "name": "stdout",
     "output_type": "stream",
     "text": [
      "Best parameters: {'max_features': 9, 'max_samples': 500, 'n_estimators': 200}\n",
      "Best cross-validation score: 0.94\n"
     ]
    }
   ],
   "source": [
    "param_grid = {'n_estimators': [50,100,200,500],\n",
    "              'max_samples': [50,100,200,400,500],\n",
    "             'max_features': range(1,10)}\n",
    "\n",
    "grid_search_bag = GridSearchCV(BaggingRegressor(), param_grid, cv=10, return_train_score=True, n_jobs = -1)\n",
    "grid_search_bag.fit(X_train, y_train)\n",
    "print(\"Best parameters: {}\".format(grid_search_bag.best_params_))\n",
    "print(\"Best cross-validation score: {:.2f}\".format(grid_search_bag.best_score_))"
   ]
  },
  {
   "cell_type": "markdown",
   "metadata": {},
   "source": [
    "<b><i>Rebuilding the model with best parameters</i></b>"
   ]
  },
  {
   "cell_type": "code",
   "execution_count": 16,
   "metadata": {},
   "outputs": [
    {
     "name": "stdout",
     "output_type": "stream",
     "text": [
      "Traing Score: 93.9721%\n",
      "Test Score: 90.0543%\n",
      "\n",
      "MAE: 2.130346572582514\n",
      "MSE: 8.874767567777639\n",
      "RMSE: 2.979054811140211\n",
      "r2_Score: 0.9005429303915313\n"
     ]
    }
   ],
   "source": [
    "from sklearn.ensemble import BaggingRegressor\n",
    "from sklearn.neighbors import KNeighborsRegressor\n",
    "\n",
    "knn_reg = KNeighborsRegressor(n_neighbors = 5, p = 1, weights= 'distance')\n",
    "bag_reg1 = BaggingRegressor(knn_reg, max_features= 9, n_estimators = 200,max_samples= 500, random_state=0, bootstrap = True)\n",
    "bag_reg1.fit(X_train, y_train)\n",
    "y_pred_knn = bag_reg1.predict(X_test)\n",
    "\n",
    "print('Traing Score: {:.4f}%'.format(bag_reg1.score(X_train, y_train)*100))\n",
    "print(\"Test Score: {:.4f}%\".format(bag_reg1.score(X_test, y_test)*100))\n",
    "\n",
    "print()\n",
    "print('MAE:', metrics.mean_absolute_error(y_test, y_pred_knn))\n",
    "print('MSE:', metrics.mean_squared_error(y_test, y_pred_knn))\n",
    "print('RMSE:', np.sqrt(metrics.mean_squared_error(y_test, y_pred_knn)))\n",
    "print(\"r2_Score:\",r2_score(y_test, y_pred_knn))"
   ]
  },
  {
   "cell_type": "markdown",
   "metadata": {},
   "source": [
    "<b>Bagging with Random Forest Regressor</b>"
   ]
  },
  {
   "cell_type": "code",
   "execution_count": 43,
   "metadata": {},
   "outputs": [],
   "source": [
    "from sklearn.ensemble import BaggingRegressor,RandomForestRegressor"
   ]
  },
  {
   "cell_type": "code",
   "execution_count": 44,
   "metadata": {},
   "outputs": [
    {
     "name": "stdout",
     "output_type": "stream",
     "text": [
      "Traing Score: 93.1732%\n",
      "Test Score: 91.7953%\n"
     ]
    },
    {
     "data": {
      "image/png": "[encoded data removed]",
      "text/plain": [
       "<Figure size 432x288 with 1 Axes>"
      ]
     },
     "metadata": {},
     "output_type": "display_data"
    }
   ],
   "source": [
    "from sklearn.ensemble import BaggingRegressor,RandomForestRegressor\n",
    "\n",
    "sns.set(rc={'figure.figsize':(20,12)})\n",
    "%matplotlib inline\n",
    "train_score_array = []\n",
    "test_score_array = []\n",
    "oob_score_array=[]\n",
    "\n",
    "for n_estimators in [100,200,500]:\n",
    "    rf_reg = RandomForestRegressor(n_estimators = n_estimators,random_state = 0, n_jobs= -1)\n",
    "    bag_reg_rf = BaggingRegressor(rf_reg, n_estimators= 250, max_samples= 250, bootstrap = True, random_state=0, oob_score=True)\n",
    "    bag_reg_rf.fit(X_train, y_train)\n",
    "    train_score_array.append(bag_reg_rf.score(X_train, y_train))\n",
    "    test_score_array.append(bag_reg_rf.score(X_test, y_test))\n",
    "    oob_score_array.append(bag_reg_rf.oob_score_)\n",
    "    \n",
    "print('Traing Score: {:.4f}%'.format(bag_reg_rf.score(X_train, y_train)*100))\n",
    "print(\"Test Score: {:.4f}%\".format(bag_reg_rf.score(X_test, y_test)*100))\n",
    "\n",
    "x_axis = [100,200,500]\n",
    "plt.plot(x_axis, train_score_array, c = 'g', label = 'Train Score')\n",
    "plt.plot(x_axis, test_score_array, c = 'b', label = 'Test Score')\n",
    "plt.plot(x_axis, oob_score_array, c = 'r', label = 'OOB Score')\n",
    "plt.legend()\n",
    "plt.xlabel('Number of estimators')\n",
    "plt.ylabel('Scores')\n",
    "plt.show()"
   ]
  },
  {
   "cell_type": "markdown",
   "metadata": {},
   "source": [
    "<h2>Pasting</h2>"
   ]
  },
  {
   "cell_type": "markdown",
   "metadata": {},
   "source": [
    "<p>When sampling is performed without replacement, it is called pasting. To perform pasting, we have made the hyper parameter <b>'bootstrap'</b> which is responsible for aggregation set to False while building the model</p>"
   ]
  },
  {
   "cell_type": "markdown",
   "metadata": {},
   "source": [
    "<h3>1. Pasting with Decision Tree Regressor</h3>"
   ]
  },
  {
   "cell_type": "markdown",
   "metadata": {},
   "source": [
    "<b><i>Grid Search to find best parameter for Decision Tree Regressor</i></b>"
   ]
  },
  {
   "cell_type": "code",
   "execution_count": 17,
   "metadata": {},
   "outputs": [
    {
     "name": "stdout",
     "output_type": "stream",
     "text": [
      "Best parameters: {'max_depth': 9, 'min_samples_leaf': 5}\n",
      "Best cross-validation score: 0.92\n"
     ]
    }
   ],
   "source": [
    "dtree_param_grid = {'max_depth' : range(1,10),'min_samples_leaf' : range(1,10)}\n",
    "\n",
    "grid_search = GridSearchCV(DecisionTreeRegressor(random_state=0), param_grid = dtree_param_grid , return_train_score=True, n_jobs= -1)\n",
    "grid_search.fit(X_train, y_train)\n",
    "\n",
    "print(\"Best parameters: {}\".format(grid_search.best_params_))\n",
    "print(\"Best cross-validation score: {:.2f}\".format(grid_search.best_score_))"
   ]
  },
  {
   "cell_type": "code",
   "execution_count": 18,
   "metadata": {},
   "outputs": [
    {
     "name": "stdout",
     "output_type": "stream",
     "text": [
      "Best parameters: {'max_features': 9, 'max_samples': 500, 'n_estimators': 200}\n",
      "Best cross-validation score: 0.94\n"
     ]
    }
   ],
   "source": [
    "param_grid = {'n_estimators': [50,100,200,500],\n",
    "              'max_samples': [50,100,200,400,500],\n",
    "             'max_features': range(1,10)}\n",
    "\n",
    "grid_search_bag = GridSearchCV(BaggingRegressor(), param_grid, cv=10, return_train_score=True, n_jobs = -1)\n",
    "grid_search_bag.fit(X_train, y_train)\n",
    "\n",
    "print(\"Best parameters: {}\".format(grid_search_bag.best_params_))\n",
    "print(\"Best cross-validation score: {:.2f}\".format(grid_search_bag.best_score_))"
   ]
  },
  {
   "cell_type": "markdown",
   "metadata": {},
   "source": [
    "<b><i>Rebuilding the model with the best parameters</i></b>"
   ]
  },
  {
   "cell_type": "code",
   "execution_count": 26,
   "metadata": {},
   "outputs": [
    {
     "data": {
      "text/plain": [
       "Text(0, 0.5, 'Scores')"
      ]
     },
     "execution_count": 26,
     "metadata": {},
     "output_type": "execute_result"
    },
    {
     "data": {
      "image/png": "[encoded data removed]",
      "text/plain": [
       "<Figure size 432x288 with 1 Axes>"
      ]
     },
     "metadata": {},
     "output_type": "display_data"
    }
   ],
   "source": [
    "from sklearn.ensemble import BaggingRegressor\n",
    "from sklearn.tree import DecisionTreeRegressor\n",
    "\n",
    "sns.set(rc={'figure.figsize':(20,12)})\n",
    "%matplotlib inline\n",
    "train_score_array = []\n",
    "test_score_array = []\n",
    "\n",
    "for n in range(1,20):\n",
    "    dt_reg = DecisionTreeRegressor(max_depth = n, random_state=0)\n",
    "    bag_reg_dt = BaggingRegressor(dt_reg, n_estimators = 500, max_samples = 500, max_features= 9,bootstrap = False, random_state=0)\n",
    "    bag_reg_dt.fit(X_train, y_train)\n",
    "    train_score_array.append(bag_reg_dt.score(X_train, y_train))\n",
    "    test_score_array.append(bag_reg_dt.score(X_test, y_test))\n",
    "\n",
    "x_axis = range(1,20)\n",
    "plt.plot(x_axis, train_score_array, c = 'g', label = 'Train Score')\n",
    "plt.plot(x_axis, test_score_array, c = 'b', label = 'Test Score')\n",
    "plt.legend()\n",
    "plt.xlabel('Max Depth')\n",
    "plt.ylabel('Scores')"
   ]
  },
  {
   "cell_type": "code",
   "execution_count": 29,
   "metadata": {},
   "outputs": [
    {
     "name": "stdout",
     "output_type": "stream",
     "text": [
      "Train score: 96.7211%\n",
      "Test score: 94.1319%\n",
      "RMSE: 2.2883\n"
     ]
    }
   ],
   "source": [
    "dt_reg = DecisionTreeRegressor(max_depth = 9, random_state=0)\n",
    "bag_reg_dt = BaggingRegressor(dt_reg, n_estimators = 500, max_samples=500, bootstrap = False,random_state=0)\n",
    "bag_reg_dt.fit(X_train, y_train)\n",
    "y_pred4 = bag_reg_dt.predict(X_test)\n",
    "\n",
    "print('Train score: {:.4f}%'.format(bag_reg_dt.score(X_train, y_train)*100))\n",
    "print('Test score: {:.4f}%'.format(bag_reg_dt.score(X_test, y_test)*100))\n",
    "print('RMSE: {:.4f}'.format(np.sqrt(mean_squared_error(y_test,y_pred4))))"
   ]
  },
  {
   "cell_type": "markdown",
   "metadata": {},
   "source": [
    "<h3>2. Pasting with KNN Regressor</h3>"
   ]
  },
  {
   "cell_type": "markdown",
   "metadata": {},
   "source": [
    "<b><i>Grid Search to find best parameter for KNN Regressor</i></b>"
   ]
  },
  {
   "cell_type": "code",
   "execution_count": 30,
   "metadata": {},
   "outputs": [
    {
     "name": "stdout",
     "output_type": "stream",
     "text": [
      "Best parameters: {'n_neighbors': 5, 'p': 1, 'weights': 'distance'}\n",
      "Best cross-validation score: 0.93\n"
     ]
    }
   ],
   "source": [
    "knn_param_grid = {'n_neighbors' : range(1,20), 'p': [1,2], 'weights': ['distance','uniform']}\n",
    "\n",
    "grid_knn = GridSearchCV(KNeighborsRegressor(), param_grid = knn_param_grid, cv=10, return_train_score=True, n_jobs= -1)\n",
    "grid_knn.fit(X_train, y_train)\n",
    "\n",
    "print(\"Best parameters: {}\".format(grid_knn.best_params_))\n",
    "print(\"Best cross-validation score: {:.2f}\".format(grid_knn.best_score_))"
   ]
  },
  {
   "cell_type": "markdown",
   "metadata": {},
   "source": [
    "<b><i> Rebuilding the model with best parameters</i></b>"
   ]
  },
  {
   "cell_type": "code",
   "execution_count": 31,
   "metadata": {},
   "outputs": [
    {
     "name": "stdout",
     "output_type": "stream",
     "text": [
      "Train score: 94.4210%\n",
      "Test score: 90.2201%\n",
      "\n",
      "MAE: 2.1060860992276758\n",
      "MSE: 8.726836580326419\n",
      "RMSE: 2.9541219643620704\n",
      "r2_Score: 0.9022007521208129\n"
     ]
    }
   ],
   "source": [
    "from sklearn.ensemble import BaggingRegressor\n",
    "from sklearn.neighbors import KNeighborsRegressor\n",
    "\n",
    "bag_reg_knn2 = BaggingRegressor(KNeighborsRegressor(5, p=1, weights= 'distance'), max_features= 9, max_samples=500, n_estimators= 200, random_state=0, bootstrap = False)\n",
    "bag_reg_knn2.fit(X_train, y_train)\n",
    "y_pred_knn2 = bag_reg_knn2.predict(X_test)\n",
    "\n",
    "print('Train score: {:.4f}%'.format(bag_reg_knn2.score(X_train, y_train)*100))\n",
    "print('Test score: {:.4f}%'.format(bag_reg_knn2.score(X_test, y_test)*100))\n",
    "\n",
    "print()\n",
    "print('MAE:', metrics.mean_absolute_error(y_test, y_pred_knn2))\n",
    "print('MSE:', metrics.mean_squared_error(y_test, y_pred_knn2))\n",
    "print('RMSE:', np.sqrt(metrics.mean_squared_error(y_test, y_pred_knn2)))\n",
    "print(\"r2_Score:\",r2_score(y_test, y_pred_knn2))"
   ]
  },
  {
   "cell_type": "markdown",
   "metadata": {},
   "source": [
    "<h2>AdaBoost Boosting</h2>"
   ]
  },
  {
   "cell_type": "markdown",
   "metadata": {},
   "source": [
    "<h3>1. AdaBoost with Decision Tree Regressor</h3>"
   ]
  },
  {
   "cell_type": "markdown",
   "metadata": {},
   "source": [
    "<b><i>Grid search to find best parameters for adaboost boosting for Decision Tree Regression</i></b>"
   ]
  },
  {
   "cell_type": "code",
   "execution_count": 35,
   "metadata": {
    "scrolled": true
   },
   "outputs": [
    {
     "name": "stdout",
     "output_type": "stream",
     "text": [
      "Fitting 10 folds for each of 48 candidates, totalling 480 fits\n"
     ]
    },
    {
     "name": "stderr",
     "output_type": "stream",
     "text": [
      "[Parallel(n_jobs=-1)]: Using backend LokyBackend with 4 concurrent workers.\n",
      "[Parallel(n_jobs=-1)]: Done  42 tasks      | elapsed:   31.5s\n",
      "[Parallel(n_jobs=-1)]: Done 192 tasks      | elapsed:  2.4min\n",
      "[Parallel(n_jobs=-1)]: Done 442 tasks      | elapsed:  5.3min\n",
      "[Parallel(n_jobs=-1)]: Done 480 out of 480 | elapsed:  5.7min finished\n"
     ]
    },
    {
     "name": "stdout",
     "output_type": "stream",
     "text": [
      "Best parameters: {'learning_rate': 1, 'loss': 'linear', 'n_estimators': 100}\n",
      "Best cross-validation score: 0.90\n"
     ]
    }
   ],
   "source": [
    "from sklearn.tree import DecisionTreeRegressor\n",
    "from sklearn.ensemble import AdaBoostRegressor\n",
    "from sklearn import metrics\n",
    "\n",
    "param_grid = {'n_estimators': [50,100,200,500],\n",
    "              'learning_rate': [.01, .05, .1, 1],\n",
    "             'loss': ['linear', 'square', 'exponential']}\n",
    "\n",
    "grid_search_ada = GridSearchCV(AdaBoostRegressor(random_state = 0), param_grid, cv=10, return_train_score=True, n_jobs= -1, verbose= True)\n",
    "grid_search_ada.fit(X_train, y_train)\n",
    "print(\"Best parameters: {}\".format(grid_search_ada.best_params_))\n",
    "print(\"Best cross-validation score: {:.2f}\".format(grid_search_ada.best_score_))"
   ]
  },
  {
   "cell_type": "code",
   "execution_count": 36,
   "metadata": {
    "scrolled": true
   },
   "outputs": [
    {
     "name": "stdout",
     "output_type": "stream",
     "text": [
      "Traing Score: 91.3943%\n",
      "Test Score: 89.6859%\n",
      "\n",
      "MAE: 2.4063650225644744\n",
      "MSE: 9.203477725752691\n",
      "RMSE: 3.0337234095666488\n",
      "r2_Score: 0.896859166415398\n"
     ]
    }
   ],
   "source": [
    "adabst = AdaBoostRegressor(n_estimators = 100, loss = 'linear', learning_rate= 1, random_state=0)\n",
    "adabst.fit(X_train, y_train)\n",
    "y_pred1 = adabst.predict(X_test)\n",
    "print('Traing Score: {:.4f}%'.format(adabst.score(X_train, y_train)*100))\n",
    "print(\"Test Score: {:.4f}%\".format(adabst.score(X_test, y_test)*100))\n",
    "\n",
    "print()\n",
    "print('MAE:', metrics.mean_absolute_error(y_test, y_pred1))\n",
    "print('MSE:', metrics.mean_squared_error(y_test, y_pred1))\n",
    "print('RMSE:', np.sqrt(metrics.mean_squared_error(y_test, y_pred1)))\n",
    "print(\"r2_Score:\",r2_score(y_test, y_pred1))"
   ]
  },
  {
   "cell_type": "markdown",
   "metadata": {},
   "source": [
    "<b><i>Applying AdaBoost Boosting on the decision tree regressor</i></b>"
   ]
  },
  {
   "cell_type": "code",
   "execution_count": 41,
   "metadata": {},
   "outputs": [
    {
     "name": "stdout",
     "output_type": "stream",
     "text": [
      "Traing Score: 99.5165%\n",
      "Test Score: 96.0440%\n",
      "\n",
      "MAE: 1.2393978009278825\n",
      "MSE: 3.530001248847343\n",
      "RMSE: 1.8788297551527502\n",
      "r2_Score: 0.9604402507171793\n"
     ]
    }
   ],
   "source": [
    "from sklearn.tree import DecisionTreeRegressor\n",
    "from sklearn.ensemble import AdaBoostRegressor\n",
    "\n",
    "adabst = AdaBoostRegressor(DecisionTreeRegressor(max_depth= 10, min_samples_leaf = 5), n_estimators=100, learning_rate= 1, random_state=0)\n",
    "adabst.fit(X_train, y_train)\n",
    "y_pred2 = adabst.predict(X_test)\n",
    "print('Traing Score: {:.4f}%'.format(adabst.score(X_train, y_train)*100))\n",
    "print(\"Test Score: {:.4f}%\".format(adabst.score(X_test, y_test)*100))\n",
    "\n",
    "print()\n",
    "print('MAE:', metrics.mean_absolute_error(y_test, y_pred2))\n",
    "print('MSE:', metrics.mean_squared_error(y_test, y_pred2))\n",
    "print('RMSE:', np.sqrt(metrics.mean_squared_error(y_test, y_pred2)))\n",
    "print(\"r2_Score:\",r2_score(y_test, y_pred2))"
   ]
  },
  {
   "cell_type": "markdown",
   "metadata": {},
   "source": [
    "<b>Tree depth of 10, and minimum sample leaf of 5 was giving me the best results</b>"
   ]
  },
  {
   "cell_type": "markdown",
   "metadata": {},
   "source": [
    "<h3>2. AdaBoost Regressor with KNearestNeighbor</h3>"
   ]
  },
  {
   "cell_type": "markdown",
   "metadata": {},
   "source": [
    "<b><i>Finding best parameter using grid search</i></b>"
   ]
  },
  {
   "cell_type": "code",
   "execution_count": 42,
   "metadata": {},
   "outputs": [
    {
     "name": "stdout",
     "output_type": "stream",
     "text": [
      "Best parameters: {'learning_rate': 1, 'n_estimators': 100}\n",
      "Best cross-validation score: 0.90\n"
     ]
    }
   ],
   "source": [
    "param_grid = {'n_estimators': [50,100,200,500],\n",
    "              'learning_rate': [.01, .05, .1, 1]}\n",
    "\n",
    "grid_search_ada = GridSearchCV(AdaBoostRegressor(random_state = 0), param_grid, cv=10, return_train_score=True, n_jobs= -1)\n",
    "grid_search_ada.fit(X_train, y_train)\n",
    "\n",
    "print(\"Best parameters: {}\".format(grid_search_ada.best_params_))\n",
    "print(\"Best cross-validation score: {:.2f}\".format(grid_search_ada.best_score_))"
   ]
  },
  {
   "cell_type": "markdown",
   "metadata": {},
   "source": [
    "<b><i>Applying KNN regressor with n_neighbors = 5, p =1 on the dataset</i></b>"
   ]
  },
  {
   "cell_type": "code",
   "execution_count": 52,
   "metadata": {},
   "outputs": [
    {
     "name": "stdout",
     "output_type": "stream",
     "text": [
      "Training score: 95.44%\n",
      "Test score: 92.50%\n",
      "\n",
      "MAE: 1.73262473204218\n",
      "MSE: 6.693472780769209\n",
      "RMSE: 2.5871746714841675\n",
      "r2_Score: 0.9249880987648156\n"
     ]
    }
   ],
   "source": [
    "lreg = KNeighborsRegressor(n_neighbors=5, p=1)\n",
    "lreg.fit(X_train,y_train)\n",
    "y_pred = lreg.predict(X_test)\n",
    "print('Training score: {:.2f}%'.format(lreg.score(X_train, y_train)*100))\n",
    "print('Test score: {:.2f}%'.format(lreg.score(X_test, y_test)*100))\n",
    "\n",
    "print()\n",
    "print('MAE:', metrics.mean_absolute_error(y_test, y_pred))\n",
    "print('MSE:', metrics.mean_squared_error(y_test, y_pred))\n",
    "print('RMSE:', np.sqrt(metrics.mean_squared_error(y_test, y_pred)))\n",
    "print(\"r2_Score:\",r2_score(y_test, y_pred))"
   ]
  },
  {
   "cell_type": "markdown",
   "metadata": {},
   "source": [
    "<b><i>Applying Adaboost boosting on KNN regressor with n_neighbors = 5, p =1</i></b>"
   ]
  },
  {
   "cell_type": "code",
   "execution_count": 53,
   "metadata": {},
   "outputs": [
    {
     "name": "stdout",
     "output_type": "stream",
     "text": [
      "Training score: 97.54%\n",
      "Test score: 91.41%\n",
      "\n",
      "MAE: 1.97483005588392\n",
      "MSE: 7.66803093443923\n",
      "RMSE: 2.7691209678234046\n",
      "r2_Score: 0.9140664946341361\n"
     ]
    }
   ],
   "source": [
    "ada_reg = AdaBoostRegressor(KNeighborsRegressor(n_neighbors=5, p = 1), n_estimators=100,  learning_rate = 1, random_state=0)\n",
    "ada_reg.fit(X_train, y_train)\n",
    "y_pred2 = ada_reg.predict(X_test)\n",
    "\n",
    "print('Training score: {:.2f}%'.format(ada_reg.score(X_train, y_train)*100))\n",
    "print('Test score: {:.2f}%'.format(ada_reg.score(X_test, y_test)*100))\n",
    "\n",
    "print()\n",
    "print('MAE:', metrics.mean_absolute_error(y_test, y_pred2))\n",
    "print('MSE:', metrics.mean_squared_error(y_test, y_pred2))\n",
    "print('RMSE:', np.sqrt(metrics.mean_squared_error(y_test, y_pred2)))\n",
    "print(\"r2_Score:\",r2_score(y_test, y_pred2))"
   ]
  },
  {
   "cell_type": "markdown",
   "metadata": {},
   "source": [
    "<b><i><u>Observation</u></i> : We can see that AdaBoost boosting is improving our Train score but also leading to overfitting for KNN regressor</b>"
   ]
  },
  {
   "cell_type": "markdown",
   "metadata": {},
   "source": [
    "<h2>Gradient Boosting</h2>"
   ]
  },
  {
   "cell_type": "markdown",
   "metadata": {},
   "source": [
    "<b><i>Grid search to find best parameters for gradient boosting.</i></b>"
   ]
  },
  {
   "cell_type": "code",
   "execution_count": 54,
   "metadata": {},
   "outputs": [
    {
     "name": "stdout",
     "output_type": "stream",
     "text": [
      "Fitting 10 folds for each of 144 candidates, totalling 1440 fits\n"
     ]
    },
    {
     "name": "stderr",
     "output_type": "stream",
     "text": [
      "[Parallel(n_jobs=-1)]: Using backend LokyBackend with 4 concurrent workers.\n",
      "[Parallel(n_jobs=-1)]: Done  42 tasks      | elapsed:    8.2s\n",
      "[Parallel(n_jobs=-1)]: Done 192 tasks      | elapsed:   58.0s\n",
      "[Parallel(n_jobs=-1)]: Done 442 tasks      | elapsed:  5.3min\n",
      "[Parallel(n_jobs=-1)]: Done 792 tasks      | elapsed:  9.4min\n",
      "[Parallel(n_jobs=-1)]: Done 1242 tasks      | elapsed: 13.4min\n",
      "[Parallel(n_jobs=-1)]: Done 1440 out of 1440 | elapsed: 14.7min finished\n"
     ]
    },
    {
     "name": "stdout",
     "output_type": "stream",
     "text": [
      "Best parameters: {'learning_rate': 0.05, 'max_depth': 6, 'n_estimators': 500}\n",
      "Best cross-validation score: 0.96\n"
     ]
    }
   ],
   "source": [
    "from sklearn.model_selection import GridSearchCV\n",
    "from sklearn.ensemble import GradientBoostingRegressor\n",
    "\n",
    "param_grid = {'n_estimators': [50,100,200,500],\n",
    "              'learning_rate': [.01, .05, .1, 1], 'max_depth': np.arange(1, 10)}\n",
    "\n",
    "grid_search = GridSearchCV(GradientBoostingRegressor(random_state = 0), param_grid, cv=10, return_train_score=True, n_jobs= -1, verbose= True)\n",
    "grid_search.fit(X_train, y_train)\n",
    "print(\"Best parameters: {}\".format(grid_search.best_params_))\n",
    "print(\"Best cross-validation score: {:.2f}\".format(grid_search.best_score_))"
   ]
  },
  {
   "cell_type": "markdown",
   "metadata": {},
   "source": [
    "<b><i>Building the Gradient Boosting model with best parameters found by grid search</i></b>"
   ]
  },
  {
   "cell_type": "code",
   "execution_count": 55,
   "metadata": {},
   "outputs": [
    {
     "name": "stdout",
     "output_type": "stream",
     "text": [
      "Traing Score: 99.9281%\n",
      "Test Score: 95.9518%\n",
      "\n",
      "MAE: 1.1906763554285111\n",
      "MSE: 3.6122755097789336\n",
      "RMSE: 1.9005987240285451\n",
      "r2_Score: 0.9595182257926992\n"
     ]
    }
   ],
   "source": [
    "from sklearn.ensemble import GradientBoostingRegressor\n",
    "\n",
    "gbrt = GradientBoostingRegressor(max_depth= 6, n_estimators= 500, learning_rate= 0.05, random_state=0)\n",
    "gbrt.fit(X_train, y_train)\n",
    "y_pred3 = gbrt.predict(X_test)\n",
    "print('Traing Score: {:.4f}%'.format(gbrt.score(X_train, y_train)*100))\n",
    "print(\"Test Score: {:.4f}%\".format(gbrt.score(X_test, y_test)*100))\n",
    "\n",
    "print()\n",
    "print('MAE:', metrics.mean_absolute_error(y_test, y_pred3))\n",
    "print('MSE:', metrics.mean_squared_error(y_test, y_pred3))\n",
    "print('RMSE:', np.sqrt(metrics.mean_squared_error(y_test, y_pred3)))\n",
    "print(\"r2_Score:\",r2_score(y_test, y_pred3))"
   ]
  },
  {
   "cell_type": "markdown",
   "metadata": {},
   "source": [
    "<h2>PCA on the Dataset</h2>"
   ]
  },
  {
   "cell_type": "code",
   "execution_count": 13,
   "metadata": {},
   "outputs": [],
   "source": [
    "from sklearn.decomposition import PCA\n",
    "\n",
    "pca_regression = PCA(n_components = .98, random_state= 0)\n",
    "X_train_pca = pca_regression.fit_transform(X_train)\n",
    "X_test_pca = pca_regression.transform(X_test)"
   ]
  },
  {
   "cell_type": "markdown",
   "metadata": {},
   "source": [
    "<b><i>Number of features after applying PCA to the dataset</i></b>"
   ]
  },
  {
   "cell_type": "code",
   "execution_count": 14,
   "metadata": {},
   "outputs": [
    {
     "data": {
      "text/plain": [
       "14"
      ]
     },
     "execution_count": 14,
     "metadata": {},
     "output_type": "execute_result"
    }
   ],
   "source": [
    "pca_regression.n_components_"
   ]
  },
  {
   "cell_type": "code",
   "execution_count": 15,
   "metadata": {},
   "outputs": [
    {
     "data": {
      "text/html": [
       "<div>\n",
       "<style scoped>\n",
       "    .dataframe tbody tr th:only-of-type {\n",
       "        vertical-align: middle;\n",
       "    }\n",
       "\n",
       "    .dataframe tbody tr th {\n",
       "        vertical-align: top;\n",
       "    }\n",
       "\n",
       "    .dataframe thead th {\n",
       "        text-align: right;\n",
       "    }\n",
       "</style>\n",
       "<table border=\"1\" class=\"dataframe\">\n",
       "  <thead>\n",
       "    <tr style=\"text-align: right;\">\n",
       "      <th></th>\n",
       "      <th>Variance Ratio</th>\n",
       "    </tr>\n",
       "  </thead>\n",
       "  <tbody>\n",
       "    <tr>\n",
       "      <th>0</th>\n",
       "      <td>0.347365</td>\n",
       "    </tr>\n",
       "    <tr>\n",
       "      <th>1</th>\n",
       "      <td>0.155628</td>\n",
       "    </tr>\n",
       "    <tr>\n",
       "      <th>2</th>\n",
       "      <td>0.120521</td>\n",
       "    </tr>\n",
       "    <tr>\n",
       "      <th>3</th>\n",
       "      <td>0.081474</td>\n",
       "    </tr>\n",
       "    <tr>\n",
       "      <th>4</th>\n",
       "      <td>0.048506</td>\n",
       "    </tr>\n",
       "    <tr>\n",
       "      <th>5</th>\n",
       "      <td>0.045260</td>\n",
       "    </tr>\n",
       "    <tr>\n",
       "      <th>6</th>\n",
       "      <td>0.040078</td>\n",
       "    </tr>\n",
       "    <tr>\n",
       "      <th>7</th>\n",
       "      <td>0.030532</td>\n",
       "    </tr>\n",
       "    <tr>\n",
       "      <th>8</th>\n",
       "      <td>0.028244</td>\n",
       "    </tr>\n",
       "    <tr>\n",
       "      <th>9</th>\n",
       "      <td>0.025151</td>\n",
       "    </tr>\n",
       "    <tr>\n",
       "      <th>10</th>\n",
       "      <td>0.021916</td>\n",
       "    </tr>\n",
       "    <tr>\n",
       "      <th>11</th>\n",
       "      <td>0.020213</td>\n",
       "    </tr>\n",
       "    <tr>\n",
       "      <th>12</th>\n",
       "      <td>0.010245</td>\n",
       "    </tr>\n",
       "    <tr>\n",
       "      <th>13</th>\n",
       "      <td>0.009196</td>\n",
       "    </tr>\n",
       "  </tbody>\n",
       "</table>\n",
       "</div>"
      ],
      "text/plain": [
       "    Variance Ratio\n",
       "0         0.347365\n",
       "1         0.155628\n",
       "2         0.120521\n",
       "3         0.081474\n",
       "4         0.048506\n",
       "5         0.045260\n",
       "6         0.040078\n",
       "7         0.030532\n",
       "8         0.028244\n",
       "9         0.025151\n",
       "10        0.021916\n",
       "11        0.020213\n",
       "12        0.010245\n",
       "13        0.009196"
      ]
     },
     "execution_count": 15,
     "metadata": {},
     "output_type": "execute_result"
    }
   ],
   "source": [
    "pd.DataFrame({'Variance Ratio': pca_regression.explained_variance_ratio_})"
   ]
  },
  {
   "cell_type": "code",
   "execution_count": 16,
   "metadata": {},
   "outputs": [
    {
     "data": {
      "text/plain": [
       "0.015671095484987796"
      ]
     },
     "execution_count": 16,
     "metadata": {},
     "output_type": "execute_result"
    }
   ],
   "source": [
    "1 - pca_regression.explained_variance_ratio_.sum()"
   ]
  },
  {
   "cell_type": "markdown",
   "metadata": {},
   "source": [
    "<h3>1. KNN Regressor with Principal Component</h3>"
   ]
  },
  {
   "cell_type": "markdown",
   "metadata": {},
   "source": [
    "<b><i>Grid Search to find the best parameters for KNN Regressor</i></b>"
   ]
  },
  {
   "cell_type": "code",
   "execution_count": 88,
   "metadata": {},
   "outputs": [
    {
     "name": "stdout",
     "output_type": "stream",
     "text": [
      "Best parameters: {'n_neighbors': 5, 'p': 1, 'weights': 'distance'}\n",
      "Best cross-validation score: 0.90\n"
     ]
    }
   ],
   "source": [
    "param_grid_knn = {'n_neighbors' : range(1,20), 'p': [1,2], 'weights': ['distance','uniform']}\n",
    "\n",
    "grid_search_knn = GridSearchCV(KNeighborsRegressor(), param_grid = param_grid_knn, cv=10, return_train_score=True, n_jobs= -1)\n",
    "grid_search_knn.fit(X_train_pca, y_train)\n",
    "\n",
    "print(\"Best parameters: {}\".format(grid_search_knn.best_params_))\n",
    "print(\"Best cross-validation score: {:.2f}\".format(grid_search_knn.best_score_))"
   ]
  },
  {
   "cell_type": "markdown",
   "metadata": {},
   "source": [
    "<b><i>Building the model with best parameters</i></b>"
   ]
  },
  {
   "cell_type": "code",
   "execution_count": 89,
   "metadata": {},
   "outputs": [
    {
     "name": "stdout",
     "output_type": "stream",
     "text": [
      "Train score: 100.0000 %\n",
      "Test score: 88.8113 %\n",
      "RMSE: 3.1597\n",
      "r2_score: 0.8881\n"
     ]
    }
   ],
   "source": [
    "knn_pca = KNeighborsRegressor(n_neighbors=5, p = 1, weights= 'distance')\n",
    "knn_pca.fit(X_train_pca, y_train)\n",
    "y_pred_knn_pca = knn_pca.predict(X_test_pca)\n",
    "\n",
    "print('Train score: {:.4f} %'.format(knn_pca.score(X_train_pca, y_train)*100))\n",
    "print('Test score: {:.4f} %'.format(knn_pca.score(X_test_pca, y_test)*100))\n",
    "print('RMSE: {:.4f}'.format(np.sqrt(mean_squared_error(y_test,y_pred_knn_pca))))\n",
    "print('r2_score: {:.4f}'.format(r2_score(y_test,y_pred_knn_pca)))"
   ]
  },
  {
   "cell_type": "markdown",
   "metadata": {},
   "source": [
    "<h3>2. Linear Regression with Principal Component</h3>"
   ]
  },
  {
   "cell_type": "code",
   "execution_count": 90,
   "metadata": {},
   "outputs": [
    {
     "name": "stdout",
     "output_type": "stream",
     "text": [
      "Train score: 80.4021 %\n",
      "Test score: 79.7349 %\n",
      "\n",
      "\n",
      "Intercept: 69.12489033164296\n",
      "MAE: 3.1707020222046114\n",
      "MSE: 18.082959282900084\n",
      "RMSE: 4.2524\n",
      "r2_score: 0.7973\n"
     ]
    }
   ],
   "source": [
    "from sklearn.linear_model import LinearRegression\n",
    "from sklearn.metrics import mean_squared_error, r2_score\n",
    "\n",
    "lreg_pca = LinearRegression(copy_X = True, fit_intercept = True, normalize= False)\n",
    "lreg_pca.fit(X_train_pca, y_train)\n",
    "pred_linear_pca = lreg_pca.predict(X_test_pca)\n",
    "\n",
    "print('Train score: {:.4f} %'.format(lreg_pca.score(X_train_pca, y_train)*100))\n",
    "print('Test score: {:.4f} %'.format(lreg_pca.score(X_test_pca, y_test)*100))\n",
    "print('\\n')\n",
    "print(\"Intercept:\",lreg_pca.intercept_)\n",
    "print('MAE:', metrics.mean_absolute_error(y_test, pred_linear_pca))\n",
    "print('MSE:', metrics.mean_squared_error(y_test, pred_linear_pca))\n",
    "print('RMSE: {:.4f}'.format(np.sqrt(mean_squared_error(y_test,pred_linear_pca))))\n",
    "print('r2_score: {:.4f}'.format(r2_score(y_test,pred_linear_pca)))"
   ]
  },
  {
   "cell_type": "markdown",
   "metadata": {},
   "source": [
    "<h3>3. Ridge Regression with Principal Component</h3>"
   ]
  },
  {
   "cell_type": "markdown",
   "metadata": {},
   "source": [
    "<b><i>Grid Search to find best parameters on Ridge Regression</i></b>"
   ]
  },
  {
   "cell_type": "code",
   "execution_count": 91,
   "metadata": {},
   "outputs": [
    {
     "name": "stdout",
     "output_type": "stream",
     "text": [
      "Best parameters: {'alpha': 0.1}\n",
      "Best cross-validation score: 0.80\n"
     ]
    }
   ],
   "source": [
    "ridge_param_grid = {'alpha': [0.001, 0.01, 0.1, 1, 3, 5,10, 12, 15, 20, 100]}\n",
    "            \n",
    "grid_search_ridge = GridSearchCV(Ridge(), param_grid = ridge_param_grid, return_train_score=True, n_jobs= -1)\n",
    "grid_search_ridge.fit(X_train_pca, y_train)\n",
    "\n",
    "print(\"Best parameters: {}\".format(grid_search_ridge.best_params_))\n",
    "print(\"Best cross-validation score: {:.2f}\".format(grid_search_ridge.best_score_))"
   ]
  },
  {
   "cell_type": "markdown",
   "metadata": {},
   "source": [
    "<b><i>Building the model with best parameters</i></b>"
   ]
  },
  {
   "cell_type": "code",
   "execution_count": 93,
   "metadata": {},
   "outputs": [
    {
     "name": "stdout",
     "output_type": "stream",
     "text": [
      "Train score: 80.4019 %\n",
      "Test score: 79.7285 %\n",
      "RMSE: 4.2531\n",
      "r2_score: 0.7973\n"
     ]
    }
   ],
   "source": [
    "ridge_pca = Ridge(alpha = 0.1)\n",
    "ridge_pca.fit(X_train_pca,y_train)\n",
    "\n",
    "y_pred_ridge_pca = ridge_pca.predict(X_test_pca)\n",
    "\n",
    "print('Train score: {:.4f} %'.format(ridge_pca.score(X_train_pca, y_train)*100))\n",
    "print('Test score: {:.4f} %'.format(ridge_pca.score(X_test_pca, y_test)*100))\n",
    "print('RMSE: {:.4f}'.format(np.sqrt(mean_squared_error(y_test,y_pred_ridge_pca))))\n",
    "print('r2_score: {:.4f}'.format(r2_score(y_test,y_pred_ridge_pca)))"
   ]
  },
  {
   "cell_type": "code",
   "execution_count": 22,
   "metadata": {},
   "outputs": [
    {
     "data": {
      "text/plain": [
       "<matplotlib.legend.Legend at 0x18e87e5a6d8>"
      ]
     },
     "execution_count": 22,
     "metadata": {},
     "output_type": "execute_result"
    },
    {
     "data": {
      "image/png": "[encoded data removed]",
      "text/plain": [
       "<Figure size 432x288 with 1 Axes>"
      ]
     },
     "metadata": {},
     "output_type": "display_data"
    }
   ],
   "source": [
    "results = pd.DataFrame(grid_search_ridge.cv_results_)\n",
    "plt.plot(results['param_alpha'],results['mean_test_score'],marker='o',c='r',label='Validation Test score')\n",
    "plt.plot(results['param_alpha'],results['mean_train_score'],marker='*',c='g',label='Validation Train score')\n",
    "plt.title('Alpha Vs. Mean Train/Validation Accuracy')\n",
    "plt.xlabel(r'$\\alpha$')\n",
    "plt.ylabel('Accuracy')\n",
    "plt.legend()"
   ]
  },
  {
   "cell_type": "markdown",
   "metadata": {},
   "source": [
    "<h3>4. Lasso Regression with Principal Component</h3>"
   ]
  },
  {
   "cell_type": "markdown",
   "metadata": {},
   "source": [
    "<b><i>Grid Search to find best parameters on Lasso Regression</i></b>"
   ]
  },
  {
   "cell_type": "code",
   "execution_count": 23,
   "metadata": {},
   "outputs": [
    {
     "name": "stdout",
     "output_type": "stream",
     "text": [
      "Best parameters: {'alpha': 0.001}\n",
      "Best cross-validation score: 0.80\n"
     ]
    }
   ],
   "source": [
    "from  sklearn.linear_model import Lasso\n",
    "\n",
    "lasso_param_grid = {'alpha': [0.001, 0.01, 0.1, 1, 10, 100, 1000]}\n",
    "            \n",
    "grid_search_lasso = GridSearchCV(Lasso(random_state= 0), param_grid = lasso_param_grid , return_train_score = True, n_jobs= -1)\n",
    "grid_search_lasso.fit(X_train_pca, y_train)\n",
    "\n",
    "print(\"Best parameters: {}\".format(grid_search_lasso.best_params_))\n",
    "print(\"Best cross-validation score: {:.2f}\".format(grid_search_lasso.best_score_))"
   ]
  },
  {
   "cell_type": "markdown",
   "metadata": {},
   "source": [
    "<b><i>Building the model with best parameters</i></b>"
   ]
  },
  {
   "cell_type": "code",
   "execution_count": 24,
   "metadata": {},
   "outputs": [
    {
     "name": "stdout",
     "output_type": "stream",
     "text": [
      "Train score: 80.4013 %\n",
      "Test score: 79.7201 %\n",
      "RMSE: 4.2540\n",
      "r2_score: 0.7972\n"
     ]
    }
   ],
   "source": [
    "lasso_pca = Lasso(alpha = 0.001)\n",
    "lasso_pca.fit(X_train_pca, y_train)\n",
    "\n",
    "y_pred_lasso_pca = lasso_pca.predict(X_test_pca)\n",
    "\n",
    "print('Train score: {:.4f} %'.format(lasso_pca.score(X_train_pca, y_train)*100))\n",
    "print('Test score: {:.4f} %'.format(lasso_pca.score(X_test_pca, y_test)*100))\n",
    "\n",
    "print('RMSE: {:.4f}'.format(np.sqrt(mean_squared_error(y_test,y_pred_lasso_pca))))\n",
    "print('r2_score: {:.4f}'.format(r2_score(y_test,y_pred_lasso_pca)))"
   ]
  },
  {
   "cell_type": "code",
   "execution_count": 25,
   "metadata": {},
   "outputs": [
    {
     "data": {
      "text/plain": [
       "<matplotlib.legend.Legend at 0x18e87e72588>"
      ]
     },
     "execution_count": 25,
     "metadata": {},
     "output_type": "execute_result"
    },
    {
     "data": {
      "image/png": "[encoded data removed]",
      "text/plain": [
       "<Figure size 432x288 with 1 Axes>"
      ]
     },
     "metadata": {},
     "output_type": "display_data"
    }
   ],
   "source": [
    "results = pd.DataFrame(grid_search_lasso.cv_results_)\n",
    "plt.plot(results['param_alpha'],results['mean_test_score'],marker='o',c='r',label='Validation Test score')\n",
    "plt.plot(results['param_alpha'],results['mean_train_score'],marker='*',c='g',label='Validation Train score')\n",
    "plt.title('Alpha Vs. Mean Train/Validation Accuracy')\n",
    "plt.xlabel(r'$\\alpha$')\n",
    "plt.ylabel('Accuracy')\n",
    "plt.legend()"
   ]
  },
  {
   "cell_type": "markdown",
   "metadata": {},
   "source": [
    "<h3>5. Polynomial Regression with Principal Component</h3>"
   ]
  },
  {
   "cell_type": "code",
   "execution_count": 26,
   "metadata": {},
   "outputs": [],
   "source": [
    "from  sklearn.preprocessing  import PolynomialFeatures\n",
    "poly_train_score_list = []\n",
    "poly_test_score_list = []\n",
    "\n",
    "for n in range(1,4):\n",
    "    poly_pca = PolynomialFeatures(n)\n",
    "    X_train_poly = poly_pca.fit_transform(X_train_pca)\n",
    "    X_test_poly = poly_pca.transform(X_test_pca)\n",
    "    \n",
    "    lreg_poly =LinearRegression()\n",
    "    lreg_poly.fit(X_train_poly, y_train)\n",
    "    poly_train_score_list.append(lreg_poly.score(X_train_poly, y_train))\n",
    "    poly_test_score_list.append(lreg_poly.score(X_test_poly, y_test))"
   ]
  },
  {
   "cell_type": "code",
   "execution_count": 27,
   "metadata": {},
   "outputs": [
    {
     "data": {
      "text/html": [
       "<div>\n",
       "<style scoped>\n",
       "    .dataframe tbody tr th:only-of-type {\n",
       "        vertical-align: middle;\n",
       "    }\n",
       "\n",
       "    .dataframe tbody tr th {\n",
       "        vertical-align: top;\n",
       "    }\n",
       "\n",
       "    .dataframe thead th {\n",
       "        text-align: right;\n",
       "    }\n",
       "</style>\n",
       "<table border=\"1\" class=\"dataframe\">\n",
       "  <thead>\n",
       "    <tr style=\"text-align: right;\">\n",
       "      <th></th>\n",
       "      <th>Train score</th>\n",
       "      <th>Test Score</th>\n",
       "    </tr>\n",
       "  </thead>\n",
       "  <tbody>\n",
       "    <tr>\n",
       "      <th>0</th>\n",
       "      <td>0.804021</td>\n",
       "      <td>0.797349</td>\n",
       "    </tr>\n",
       "    <tr>\n",
       "      <th>1</th>\n",
       "      <td>0.910704</td>\n",
       "      <td>0.897668</td>\n",
       "    </tr>\n",
       "    <tr>\n",
       "      <th>2</th>\n",
       "      <td>0.969433</td>\n",
       "      <td>0.604333</td>\n",
       "    </tr>\n",
       "  </tbody>\n",
       "</table>\n",
       "</div>"
      ],
      "text/plain": [
       "   Train score  Test Score\n",
       "0     0.804021    0.797349\n",
       "1     0.910704    0.897668\n",
       "2     0.969433    0.604333"
      ]
     },
     "execution_count": 27,
     "metadata": {},
     "output_type": "execute_result"
    }
   ],
   "source": [
    "poly_score_list = pd.DataFrame({'Train score' : poly_train_score_list, 'Test Score' : poly_test_score_list}) \n",
    "poly_score_list"
   ]
  },
  {
   "cell_type": "code",
   "execution_count": 28,
   "metadata": {},
   "outputs": [
    {
     "data": {
      "text/plain": [
       "<matplotlib.legend.Legend at 0x18e87f78978>"
      ]
     },
     "execution_count": 28,
     "metadata": {},
     "output_type": "execute_result"
    },
    {
     "data": {
      "image/png": "[encoded data removed]",
      "text/plain": [
       "<Figure size 432x288 with 1 Axes>"
      ]
     },
     "metadata": {},
     "output_type": "display_data"
    }
   ],
   "source": [
    "%matplotlib inline\n",
    "\n",
    "x_axis = range(1,4)\n",
    "plt.plot(x_axis, poly_train_score_list, c = 'g', label = 'Train Score')\n",
    "plt.plot(x_axis, poly_test_score_list, c = 'b', label = 'Test Score')\n",
    "plt.xlabel('degree')\n",
    "plt.ylabel('accuracy')\n",
    "plt.legend()"
   ]
  },
  {
   "cell_type": "markdown",
   "metadata": {},
   "source": [
    "<b><i>Building the model with best parameters, degree = 2</i></b>"
   ]
  },
  {
   "cell_type": "code",
   "execution_count": 29,
   "metadata": {},
   "outputs": [
    {
     "name": "stdout",
     "output_type": "stream",
     "text": [
      "Train score: 91.0704 %\n",
      "Test score: 89.7668 %\n",
      "RMSE: 3.0218\n",
      "R2 score: 0.8977\n"
     ]
    }
   ],
   "source": [
    "poly = PolynomialFeatures(2)\n",
    "X_train_poly = poly.fit_transform(X_train_pca)\n",
    "X_test_poly = poly.transform(X_test_pca)\n",
    "lreg_poly.fit(X_train_poly, y_train)\n",
    "\n",
    "y_poly = lreg_poly.predict(X_test_poly)\n",
    "\n",
    "print('Train score: {:.4f} %'.format(lreg_poly.score(X_train_poly, y_train)*100))\n",
    "print('Test score: {:.4f} %'.format(lreg_poly.score(X_test_poly, y_test)*100))\n",
    "\n",
    "print('RMSE: {:.4f}'.format(np.sqrt(mean_squared_error(y_test,y_poly))))\n",
    "print('R2 score: {:.4f}'.format(r2_score(y_test,y_poly)))"
   ]
  },
  {
   "cell_type": "markdown",
   "metadata": {},
   "source": [
    "<h3>6. Decision Tree Regressor with Principal Component</h3>"
   ]
  },
  {
   "cell_type": "code",
   "execution_count": 30,
   "metadata": {},
   "outputs": [
    {
     "name": "stdout",
     "output_type": "stream",
     "text": [
      "Best parameters: {'max_depth': 9, 'min_samples_leaf': 4}\n",
      "Best cross-validation score: 0.80\n"
     ]
    }
   ],
   "source": [
    "dtree_param_grid = {'max_depth' : range(1,10),'min_samples_leaf' : range(1,10)}\n",
    "\n",
    "grid_search_dtree = GridSearchCV(DecisionTreeRegressor(random_state=0), param_grid = dtree_param_grid , return_train_score=True, n_jobs= -1)\n",
    "grid_search_dtree.fit(X_train_pca, y_train)\n",
    "\n",
    "print(\"Best parameters: {}\".format(grid_search_dtree.best_params_))\n",
    "print(\"Best cross-validation score: {:.2f}\".format(grid_search_dtree.best_score_))"
   ]
  },
  {
   "cell_type": "markdown",
   "metadata": {},
   "source": [
    "<b><i>Building the model with best parameters</i></b>"
   ]
  },
  {
   "cell_type": "code",
   "execution_count": 57,
   "metadata": {},
   "outputs": [
    {
     "name": "stdout",
     "output_type": "stream",
     "text": [
      "Accuracy on training set: 93.470%\n",
      "Accuracy on test set: 79.903%\n",
      "RMSE: 4.2347\n",
      "r2_score: 0.7990\n"
     ]
    }
   ],
   "source": [
    "dtree_pca = DecisionTreeRegressor(max_depth = 9, min_samples_leaf = 4, random_state = 0)\n",
    "dtree_pca.fit(X_train_pca, y_train)\n",
    "\n",
    "y_pred_dtree_pca = dtree_pca.predict(X_test_pca)\n",
    "\n",
    "print('Accuracy on training set: {:.3f}%'.format(dtree_pca.score(X_train_pca, y_train)*100))\n",
    "print('Accuracy on test set: {:.3f}%'.format(dtree_pca.score(X_test_pca, y_test)*100))\n",
    "\n",
    "print('RMSE: {:.4f}'.format(np.sqrt(mean_squared_error(y_test,y_pred_dtree_pca))))\n",
    "print('r2_score: {:.4f}'.format(r2_score(y_test,y_pred_dtree_pca)))"
   ]
  },
  {
   "cell_type": "markdown",
   "metadata": {},
   "source": [
    "<h3>7. Support Vector Machine with Principal Component</h3>"
   ]
  },
  {
   "cell_type": "code",
   "execution_count": 59,
   "metadata": {
    "scrolled": true
   },
   "outputs": [
    {
     "name": "stdout",
     "output_type": "stream",
     "text": [
      "Best parameters: {'C': 100, 'gamma': 1}\n",
      "Best cross-validation score: 0.92\n"
     ]
    }
   ],
   "source": [
    "from sklearn.svm import SVR\n",
    "from sklearn.svm import LinearSVR\n",
    "\n",
    "param_grid_svm = {'C': [0.001, 0.01, 0.1, 1, 10, 100],\n",
    "              'gamma': [0.001, 0.01, 0.1, 1, 10, 100]}\n",
    "\n",
    "grid_search_svm = GridSearchCV(SVR(), param_grid_svm, cv=10, return_train_score=True, n_jobs= -1)\n",
    "grid_search_svm.fit(X_train_pca, y_train)\n",
    "print(\"Best parameters: {}\".format(grid_search_svm.best_params_))\n",
    "print(\"Best cross-validation score: {:.2f}\".format(grid_search_svm.best_score_))"
   ]
  },
  {
   "cell_type": "markdown",
   "metadata": {},
   "source": [
    "<b>a) Linear SVR</b>"
   ]
  },
  {
   "cell_type": "code",
   "execution_count": 71,
   "metadata": {},
   "outputs": [
    {
     "name": "stdout",
     "output_type": "stream",
     "text": [
      "Training score for LinearSVR - 79.36%\n",
      "Test score for LinearSVR - 79.22%\n"
     ]
    }
   ],
   "source": [
    "clf1 = LinearSVR(C=100).fit(X_train_pca, y_train)\n",
    "\n",
    "print('Training score for LinearSVR - {:.2f}%'.format(clf1.score(X_train_pca,y_train)*100))\n",
    "print('Test score for LinearSVR - {:.2f}%'.format(clf1.score(X_test_pca,y_test)*100))"
   ]
  },
  {
   "cell_type": "markdown",
   "metadata": {},
   "source": [
    "<b>b) SVR Kernel-Linear</b>"
   ]
  },
  {
   "cell_type": "code",
   "execution_count": 72,
   "metadata": {},
   "outputs": [
    {
     "name": "stdout",
     "output_type": "stream",
     "text": [
      "Train score for SVR kernel - Linear 79.40%\n",
      "Test score for SVR kernel - Linear 79.26%\n"
     ]
    }
   ],
   "source": [
    "clf2 = SVR(kernel='linear', C=100, gamma= 0.001).fit(X_train_pca, y_train)\n",
    "\n",
    "print('Train score for SVR kernel - Linear {:.2f}%'.format(clf2.score(X_train_pca,y_train)*100))\n",
    "print('Test score for SVR kernel - Linear {:.2f}%'.format(clf2.score(X_test_pca,y_test)*100))"
   ]
  },
  {
   "cell_type": "markdown",
   "metadata": {},
   "source": [
    "<b>c) SVR Kernel-rbf</b>"
   ]
  },
  {
   "cell_type": "code",
   "execution_count": 83,
   "metadata": {},
   "outputs": [
    {
     "name": "stdout",
     "output_type": "stream",
     "text": [
      "Best parameters: {'C': 1, 'gamma': 1}\n",
      "Best cross-validation score: 0.85\n"
     ]
    }
   ],
   "source": [
    "param_grid = {'C': [0.001, 0.01, 0.1, 1],\n",
    "              'gamma': [0.001, 0.01, 0.1, 1]}\n",
    "\n",
    "grid_search_rbf = GridSearchCV(SVR(kernel='rbf'), param_grid, cv=10, return_train_score=True, n_jobs= -1)\n",
    "\n",
    "grid_search_rbf.fit(X_train_pca, y_train)\n",
    "\n",
    "print(\"Best parameters: {}\".format(grid_search_rbf.best_params_))\n",
    "print(\"Best cross-validation score: {:.2f}\".format(grid_search_rbf.best_score_))"
   ]
  },
  {
   "cell_type": "code",
   "execution_count": 85,
   "metadata": {},
   "outputs": [
    {
     "name": "stdout",
     "output_type": "stream",
     "text": [
      "Train score for SVR kernel - RBF: 95.85%\n",
      "Test score for SVR kernel - RBF: 91.41%\n"
     ]
    }
   ],
   "source": [
    "clf3 = SVR(kernel='rbf', gamma = 1, C=100).fit(X_train_pca, y_train)\n",
    "\n",
    "print('Train score for SVR kernel - RBF: {:.2f}%'.format(clf3.score(X_train_pca,y_train)*100))\n",
    "print('Test score for SVR kernel - RBF: {:.2f}%'.format(clf3.score(X_test_pca,y_test)*100))"
   ]
  },
  {
   "cell_type": "markdown",
   "metadata": {},
   "source": [
    "<b>d) SVR Kernel-Poly</b>"
   ]
  },
  {
   "cell_type": "code",
   "execution_count": 78,
   "metadata": {},
   "outputs": [
    {
     "name": "stdout",
     "output_type": "stream",
     "text": [
      "Best parameters: {'C': 1, 'degree': 3, 'gamma': 1}\n",
      "Best cross-validation score: 0.66\n"
     ]
    }
   ],
   "source": [
    "param_grid = {'C': [.001, 0.01, 0.1, 1],\n",
    "              'gamma': [.001, 0.01, 0.1, 1],\n",
    "             'degree': [2, 3, 4]}\n",
    "\n",
    "\n",
    "grid_search_poly = GridSearchCV(SVR(kernel='poly'), param_grid, cv=10, return_train_score=True, n_jobs=-1)\n",
    "grid_search_poly.fit(X_train_pca, y_train)\n",
    "\n",
    "\n",
    "print(\"Best parameters: {}\".format(grid_search_poly.best_params_))\n",
    "print(\"Best cross-validation score: {:.2f}\".format(grid_search_poly.best_score_))"
   ]
  },
  {
   "cell_type": "code",
   "execution_count": 86,
   "metadata": {},
   "outputs": [
    {
     "name": "stdout",
     "output_type": "stream",
     "text": [
      "Train score for SVR kernel - Poly: 69.39%\n",
      "Test score for SVR kernel - Poly: 67.25%\n"
     ]
    }
   ],
   "source": [
    "clf4 = SVR(kernel='poly', degree=3, C=1, gamma= 1).fit(X_train_pca, y_train)\n",
    "\n",
    "print('Train score for SVR kernel - Poly: {:.2f}%'.format(clf4.score(X_train_pca,y_train)*100))\n",
    "print('Test score for SVR kernel - Poly: {:.2f}%'.format(clf4.score(X_test_pca,y_test)*100))"
   ]
  },
  {
   "cell_type": "markdown",
   "metadata": {},
   "source": [
    "<h2>Model Performance with Original Variables vs. Principal Components</h2>"
   ]
  },
  {
   "cell_type": "code",
   "execution_count": 87,
   "metadata": {},
   "outputs": [],
   "source": [
    "outside = ['Without PCA','Without PCA','With PCA','With PCA']\n",
    "inside = ['Training Accuracy','Test Accuracy','Training Accuracy','Test Accuracy']\n",
    "hier_index = list(zip(outside,inside))\n",
    "hier_index = pd.MultiIndex.from_tuples(hier_index)"
   ]
  },
  {
   "cell_type": "code",
   "execution_count": 116,
   "metadata": {},
   "outputs": [
    {
     "data": {
      "text/html": [
       "<style  type=\"text/css\" >\n",
       "    #T_be68cfb4_11b7_11ea_a089_005056c00008row0_col0 {\n",
       "            background-color:  #023858;\n",
       "            color:  #f1f1f1;\n",
       "        }    #T_be68cfb4_11b7_11ea_a089_005056c00008row0_col1 {\n",
       "            background-color:  #023858;\n",
       "            color:  #f1f1f1;\n",
       "        }    #T_be68cfb4_11b7_11ea_a089_005056c00008row0_col2 {\n",
       "            background-color:  #023858;\n",
       "            color:  #f1f1f1;\n",
       "        }    #T_be68cfb4_11b7_11ea_a089_005056c00008row0_col3 {\n",
       "            background-color:  #023858;\n",
       "            color:  #f1f1f1;\n",
       "        }    #T_be68cfb4_11b7_11ea_a089_005056c00008row0_col4 {\n",
       "            background-color:  #023858;\n",
       "            color:  #f1f1f1;\n",
       "        }    #T_be68cfb4_11b7_11ea_a089_005056c00008row0_col5 {\n",
       "            background-color:  #023858;\n",
       "            color:  #f1f1f1;\n",
       "        }    #T_be68cfb4_11b7_11ea_a089_005056c00008row0_col6 {\n",
       "            background-color:  #e3e0ee;\n",
       "            color:  #000000;\n",
       "        }    #T_be68cfb4_11b7_11ea_a089_005056c00008row0_col7 {\n",
       "            background-color:  #023858;\n",
       "            color:  #f1f1f1;\n",
       "        }    #T_be68cfb4_11b7_11ea_a089_005056c00008row0_col8 {\n",
       "            background-color:  #023858;\n",
       "            color:  #f1f1f1;\n",
       "        }    #T_be68cfb4_11b7_11ea_a089_005056c00008row0_col9 {\n",
       "            background-color:  #023858;\n",
       "            color:  #f1f1f1;\n",
       "        }    #T_be68cfb4_11b7_11ea_a089_005056c00008row1_col0 {\n",
       "            background-color:  #a1bbda;\n",
       "            color:  #000000;\n",
       "        }    #T_be68cfb4_11b7_11ea_a089_005056c00008row1_col1 {\n",
       "            background-color:  #04588a;\n",
       "            color:  #f1f1f1;\n",
       "        }    #T_be68cfb4_11b7_11ea_a089_005056c00008row1_col2 {\n",
       "            background-color:  #358fc0;\n",
       "            color:  #000000;\n",
       "        }    #T_be68cfb4_11b7_11ea_a089_005056c00008row1_col3 {\n",
       "            background-color:  #03456c;\n",
       "            color:  #f1f1f1;\n",
       "        }    #T_be68cfb4_11b7_11ea_a089_005056c00008row1_col4 {\n",
       "            background-color:  #fff7fb;\n",
       "            color:  #000000;\n",
       "        }    #T_be68cfb4_11b7_11ea_a089_005056c00008row1_col5 {\n",
       "            background-color:  #2a88bc;\n",
       "            color:  #000000;\n",
       "        }    #T_be68cfb4_11b7_11ea_a089_005056c00008row1_col6 {\n",
       "            background-color:  #fff7fb;\n",
       "            color:  #000000;\n",
       "        }    #T_be68cfb4_11b7_11ea_a089_005056c00008row1_col7 {\n",
       "            background-color:  #fff7fb;\n",
       "            color:  #000000;\n",
       "        }    #T_be68cfb4_11b7_11ea_a089_005056c00008row1_col8 {\n",
       "            background-color:  #ebe6f2;\n",
       "            color:  #000000;\n",
       "        }    #T_be68cfb4_11b7_11ea_a089_005056c00008row1_col9 {\n",
       "            background-color:  #0872b1;\n",
       "            color:  #f1f1f1;\n",
       "        }    #T_be68cfb4_11b7_11ea_a089_005056c00008row2_col0 {\n",
       "            background-color:  #023858;\n",
       "            color:  #f1f1f1;\n",
       "        }    #T_be68cfb4_11b7_11ea_a089_005056c00008row2_col1 {\n",
       "            background-color:  #63a2cb;\n",
       "            color:  #000000;\n",
       "        }    #T_be68cfb4_11b7_11ea_a089_005056c00008row2_col2 {\n",
       "            background-color:  #4697c4;\n",
       "            color:  #000000;\n",
       "        }    #T_be68cfb4_11b7_11ea_a089_005056c00008row2_col3 {\n",
       "            background-color:  #509ac6;\n",
       "            color:  #000000;\n",
       "        }    #T_be68cfb4_11b7_11ea_a089_005056c00008row2_col4 {\n",
       "            background-color:  #5ea0ca;\n",
       "            color:  #000000;\n",
       "        }    #T_be68cfb4_11b7_11ea_a089_005056c00008row2_col5 {\n",
       "            background-color:  #056aa6;\n",
       "            color:  #f1f1f1;\n",
       "        }    #T_be68cfb4_11b7_11ea_a089_005056c00008row2_col6 {\n",
       "            background-color:  #023858;\n",
       "            color:  #f1f1f1;\n",
       "        }    #T_be68cfb4_11b7_11ea_a089_005056c00008row2_col7 {\n",
       "            background-color:  #056aa6;\n",
       "            color:  #f1f1f1;\n",
       "        }    #T_be68cfb4_11b7_11ea_a089_005056c00008row2_col8 {\n",
       "            background-color:  #045382;\n",
       "            color:  #f1f1f1;\n",
       "        }    #T_be68cfb4_11b7_11ea_a089_005056c00008row2_col9 {\n",
       "            background-color:  #63a2cb;\n",
       "            color:  #000000;\n",
       "        }    #T_be68cfb4_11b7_11ea_a089_005056c00008row3_col0 {\n",
       "            background-color:  #fff7fb;\n",
       "            color:  #000000;\n",
       "        }    #T_be68cfb4_11b7_11ea_a089_005056c00008row3_col1 {\n",
       "            background-color:  #fff7fb;\n",
       "            color:  #000000;\n",
       "        }    #T_be68cfb4_11b7_11ea_a089_005056c00008row3_col2 {\n",
       "            background-color:  #fff7fb;\n",
       "            color:  #000000;\n",
       "        }    #T_be68cfb4_11b7_11ea_a089_005056c00008row3_col3 {\n",
       "            background-color:  #fff7fb;\n",
       "            color:  #000000;\n",
       "        }    #T_be68cfb4_11b7_11ea_a089_005056c00008row3_col4 {\n",
       "            background-color:  #e9e5f1;\n",
       "            color:  #000000;\n",
       "        }    #T_be68cfb4_11b7_11ea_a089_005056c00008row3_col5 {\n",
       "            background-color:  #fff7fb;\n",
       "            color:  #000000;\n",
       "        }    #T_be68cfb4_11b7_11ea_a089_005056c00008row3_col6 {\n",
       "            background-color:  #034f7d;\n",
       "            color:  #f1f1f1;\n",
       "        }    #T_be68cfb4_11b7_11ea_a089_005056c00008row3_col7 {\n",
       "            background-color:  #e1dfed;\n",
       "            color:  #000000;\n",
       "        }    #T_be68cfb4_11b7_11ea_a089_005056c00008row3_col8 {\n",
       "            background-color:  #fff7fb;\n",
       "            color:  #000000;\n",
       "        }    #T_be68cfb4_11b7_11ea_a089_005056c00008row3_col9 {\n",
       "            background-color:  #fff7fb;\n",
       "            color:  #000000;\n",
       "        }</style><table id=\"T_be68cfb4_11b7_11ea_a089_005056c00008\" ><thead>    <tr>        <th class=\"blank\" ></th>        <th class=\"blank level0\" ></th>        <th class=\"col_heading level0 col0\" >KNN</th>        <th class=\"col_heading level0 col1\" >Linear</th>        <th class=\"col_heading level0 col2\" >Ridge</th>        <th class=\"col_heading level0 col3\" >Lasso</th>        <th class=\"col_heading level0 col4\" >Polynomial</th>        <th class=\"col_heading level0 col5\" >Decision Tree</th>        <th class=\"col_heading level0 col6\" >LinearSVR</th>        <th class=\"col_heading level0 col7\" >SVR kernel-Linear</th>        <th class=\"col_heading level0 col8\" >SVR kernel-rbf</th>        <th class=\"col_heading level0 col9\" >SVR kernel-poly</th>    </tr></thead><tbody>\n",
       "                <tr>\n",
       "                        <th id=\"T_be68cfb4_11b7_11ea_a089_005056c00008level0_row0\" class=\"row_heading level0 row0\" rowspan=2>Before PCA</th>\n",
       "                        <th id=\"T_be68cfb4_11b7_11ea_a089_005056c00008level1_row0\" class=\"row_heading level1 row0\" >Training Accuracy</th>\n",
       "                        <td id=\"T_be68cfb4_11b7_11ea_a089_005056c00008row0_col0\" class=\"data row0 col0\" >1</td>\n",
       "                        <td id=\"T_be68cfb4_11b7_11ea_a089_005056c00008row0_col1\" class=\"data row0 col1\" >0.8099</td>\n",
       "                        <td id=\"T_be68cfb4_11b7_11ea_a089_005056c00008row0_col2\" class=\"data row0 col2\" >0.8087</td>\n",
       "                        <td id=\"T_be68cfb4_11b7_11ea_a089_005056c00008row0_col3\" class=\"data row0 col3\" >0.8091</td>\n",
       "                        <td id=\"T_be68cfb4_11b7_11ea_a089_005056c00008row0_col4\" class=\"data row0 col4\" >0.9255</td>\n",
       "                        <td id=\"T_be68cfb4_11b7_11ea_a089_005056c00008row0_col5\" class=\"data row0 col5\" >0.9722</td>\n",
       "                        <td id=\"T_be68cfb4_11b7_11ea_a089_005056c00008row0_col6\" class=\"data row0 col6\" >0.7802</td>\n",
       "                        <td id=\"T_be68cfb4_11b7_11ea_a089_005056c00008row0_col7\" class=\"data row0 col7\" >0.7945</td>\n",
       "                        <td id=\"T_be68cfb4_11b7_11ea_a089_005056c00008row0_col8\" class=\"data row0 col8\" >0.9635</td>\n",
       "                        <td id=\"T_be68cfb4_11b7_11ea_a089_005056c00008row0_col9\" class=\"data row0 col9\" >0.7125</td>\n",
       "            </tr>\n",
       "            <tr>\n",
       "                                <th id=\"T_be68cfb4_11b7_11ea_a089_005056c00008level1_row1\" class=\"row_heading level1 row1\" >Test Accuracy</th>\n",
       "                        <td id=\"T_be68cfb4_11b7_11ea_a089_005056c00008row1_col0\" class=\"data row1 col0\" >0.9316</td>\n",
       "                        <td id=\"T_be68cfb4_11b7_11ea_a089_005056c00008row1_col1\" class=\"data row1 col1\" >0.8084</td>\n",
       "                        <td id=\"T_be68cfb4_11b7_11ea_a089_005056c00008row1_col2\" class=\"data row1 col2\" >0.8044</td>\n",
       "                        <td id=\"T_be68cfb4_11b7_11ea_a089_005056c00008row1_col3\" class=\"data row1 col3\" >0.8085</td>\n",
       "                        <td id=\"T_be68cfb4_11b7_11ea_a089_005056c00008row1_col4\" class=\"data row1 col4\" >0.8931</td>\n",
       "                        <td id=\"T_be68cfb4_11b7_11ea_a089_005056c00008row1_col5\" class=\"data row1 col5\" >0.9123</td>\n",
       "                        <td id=\"T_be68cfb4_11b7_11ea_a089_005056c00008row1_col6\" class=\"data row1 col6\" >0.7775</td>\n",
       "                        <td id=\"T_be68cfb4_11b7_11ea_a089_005056c00008row1_col7\" class=\"data row1 col7\" >0.7922</td>\n",
       "                        <td id=\"T_be68cfb4_11b7_11ea_a089_005056c00008row1_col8\" class=\"data row1 col8\" >0.9205</td>\n",
       "                        <td id=\"T_be68cfb4_11b7_11ea_a089_005056c00008row1_col9\" class=\"data row1 col9\" >0.7021</td>\n",
       "            </tr>\n",
       "            <tr>\n",
       "                        <th id=\"T_be68cfb4_11b7_11ea_a089_005056c00008level0_row2\" class=\"row_heading level0 row2\" rowspan=2>After PCA</th>\n",
       "                        <th id=\"T_be68cfb4_11b7_11ea_a089_005056c00008level1_row2\" class=\"row_heading level1 row2\" >Training Accuracy</th>\n",
       "                        <td id=\"T_be68cfb4_11b7_11ea_a089_005056c00008row2_col0\" class=\"data row2 col0\" >1</td>\n",
       "                        <td id=\"T_be68cfb4_11b7_11ea_a089_005056c00008row2_col1\" class=\"data row2 col1\" >0.804</td>\n",
       "                        <td id=\"T_be68cfb4_11b7_11ea_a089_005056c00008row2_col2\" class=\"data row2 col2\" >0.804</td>\n",
       "                        <td id=\"T_be68cfb4_11b7_11ea_a089_005056c00008row2_col3\" class=\"data row2 col3\" >0.804</td>\n",
       "                        <td id=\"T_be68cfb4_11b7_11ea_a089_005056c00008row2_col4\" class=\"data row2 col4\" >0.9107</td>\n",
       "                        <td id=\"T_be68cfb4_11b7_11ea_a089_005056c00008row2_col5\" class=\"data row2 col5\" >0.9347</td>\n",
       "                        <td id=\"T_be68cfb4_11b7_11ea_a089_005056c00008row2_col6\" class=\"data row2 col6\" >0.7936</td>\n",
       "                        <td id=\"T_be68cfb4_11b7_11ea_a089_005056c00008row2_col7\" class=\"data row2 col7\" >0.794</td>\n",
       "                        <td id=\"T_be68cfb4_11b7_11ea_a089_005056c00008row2_col8\" class=\"data row2 col8\" >0.9585</td>\n",
       "                        <td id=\"T_be68cfb4_11b7_11ea_a089_005056c00008row2_col9\" class=\"data row2 col9\" >0.6939</td>\n",
       "            </tr>\n",
       "            <tr>\n",
       "                                <th id=\"T_be68cfb4_11b7_11ea_a089_005056c00008level1_row3\" class=\"row_heading level1 row3\" >Test Accuracy</th>\n",
       "                        <td id=\"T_be68cfb4_11b7_11ea_a089_005056c00008row3_col0\" class=\"data row3 col0\" >0.8881</td>\n",
       "                        <td id=\"T_be68cfb4_11b7_11ea_a089_005056c00008row3_col1\" class=\"data row3 col1\" >0.7973</td>\n",
       "                        <td id=\"T_be68cfb4_11b7_11ea_a089_005056c00008row3_col2\" class=\"data row3 col2\" >0.7972</td>\n",
       "                        <td id=\"T_be68cfb4_11b7_11ea_a089_005056c00008row3_col3\" class=\"data row3 col3\" >0.7972</td>\n",
       "                        <td id=\"T_be68cfb4_11b7_11ea_a089_005056c00008row3_col4\" class=\"data row3 col4\" >0.8976</td>\n",
       "                        <td id=\"T_be68cfb4_11b7_11ea_a089_005056c00008row3_col5\" class=\"data row3 col5\" >0.799</td>\n",
       "                        <td id=\"T_be68cfb4_11b7_11ea_a089_005056c00008row3_col6\" class=\"data row3 col6\" >0.7922</td>\n",
       "                        <td id=\"T_be68cfb4_11b7_11ea_a089_005056c00008row3_col7\" class=\"data row3 col7\" >0.7926</td>\n",
       "                        <td id=\"T_be68cfb4_11b7_11ea_a089_005056c00008row3_col8\" class=\"data row3 col8\" >0.9141</td>\n",
       "                        <td id=\"T_be68cfb4_11b7_11ea_a089_005056c00008row3_col9\" class=\"data row3 col9\" >0.6725</td>\n",
       "            </tr>\n",
       "    </tbody></table>"
      ],
      "text/plain": [
       "<pandas.io.formats.style.Styler at 0x18e8a37cc88>"
      ]
     },
     "execution_count": 116,
     "metadata": {},
     "output_type": "execute_result"
    }
   ],
   "source": [
    "# scores from Project-1 (Models without PCA)\n",
    "\n",
    "data_regression = np.array([(1.0000,0.8099,0.8087,0.8091,0.9255,0.9722,0.7802,0.7945,0.9635,0.7125),\n",
    "                     (0.9316,0.8084,0.8044,0.8085,0.8931,0.9123,0.7775,0.7922,0.9205,0.7021),\n",
    "                     (1.000,0.8040,0.8040,0.8040,0.9107,0.9347,0.7936,0.7940,0.9585,0.6939),\n",
    "                     (0.8881,0.7973,0.7972,0.7972,0.8976,0.7990,0.7922,0.7926,0.9141,0.6725)])\n",
    "\n",
    "# creating a dataframe\n",
    "df = pd.DataFrame(data_regression, index = hier_index,columns=['KNN','Linear','Ridge','Lasso','Polynomial', 'Decision Tree','LinearSVR','SVR kernel-Linear','SVR kernel-rbf','SVR kernel-poly'])\n",
    "\n",
    "\n",
    "import seaborn as sns\n",
    "\n",
    "cm = sns.light_palette(\"#2ecc71\", as_cmap = True)\n",
    "table = df.style.background_gradient(cmap='PuBu')\n",
    "table"
   ]
  },
  {
   "cell_type": "markdown",
   "metadata": {},
   "source": [
    "<h3>Conclusion</h3>\n",
    "\n",
    "<b><p>For Regression, the best model with Principal components came out to be SVR with kernel \"rbf\" and test score of ~91%. There is no significant improvement in the models after using PCA as we can see that after applying PCA on the dataset, there is a slight drop in the accuracies in most of the models. </p></b>"
   ]
  },
  {
   "cell_type": "markdown",
   "metadata": {},
   "source": [
    "<h2>Neural Networks - Regression - MLP</h2>"
   ]
  },
  {
   "cell_type": "code",
   "execution_count": 173,
   "metadata": {},
   "outputs": [],
   "source": [
    "X = life_updated.drop(['Life_Expectancy'],axis =1)\n",
    "y = life_updated['Life_Expectancy']\n",
    "\n",
    "X_train_org, X_test_org, y_train, y_test = train_test_split(X ,y, random_state = 1, test_size=0.3)\n",
    "\n",
    "scaler = MinMaxScaler()\n",
    "X_train_NN_R = scaler.fit_transform(X_train_org)\n",
    "X_test_NN_R = scaler.transform(X_test_org)"
   ]
  },
  {
   "cell_type": "code",
   "execution_count": 174,
   "metadata": {},
   "outputs": [
    {
     "name": "stdout",
     "output_type": "stream",
     "text": [
      "(2056, 20)\n",
      "(882, 20)\n"
     ]
    }
   ],
   "source": [
    "print(X_train_NN_R.shape)\n",
    "print(X_test_NN_R.shape)"
   ]
  },
  {
   "cell_type": "code",
   "execution_count": 175,
   "metadata": {},
   "outputs": [],
   "source": [
    "import numpy\n",
    "from sklearn.model_selection import GridSearchCV\n",
    "from keras.models import Sequential\n",
    "from keras.layers import Dense\n",
    "from keras.layers import Dropout\n",
    "from keras.wrappers.scikit_learn import KerasClassifier"
   ]
  },
  {
   "cell_type": "markdown",
   "metadata": {},
   "source": [
    "setting global seed to ensure reproducibility"
   ]
  },
  {
   "cell_type": "code",
   "execution_count": 176,
   "metadata": {},
   "outputs": [],
   "source": [
    "from numpy.random import seed\n",
    "np.random.seed(10)"
   ]
  },
  {
   "cell_type": "markdown",
   "metadata": {},
   "source": [
    "<b>Grid Search to find the best epochs and batch size</b>"
   ]
  },
  {
   "cell_type": "code",
   "execution_count": 177,
   "metadata": {},
   "outputs": [],
   "source": [
    "def create_model():\n",
    "    #create model\n",
    "    model = Sequential()\n",
    "    model.add(Dense(20, input_dim=20, activation='relu'))   #input layer\n",
    "    model.add(Dense(8, activation='relu'))\n",
    "    model.add(Dense(1, activation='sigmoid'))    #Output layer\n",
    "    \n",
    "    #compile model\n",
    "    model.compile(loss='binary_crossentropy', optimizer='adam', metrics=['accuracy'])\n",
    "    return model"
   ]
  },
  {
   "cell_type": "code",
   "execution_count": 178,
   "metadata": {},
   "outputs": [
    {
     "name": "stdout",
     "output_type": "stream",
     "text": [
      "Fitting 5 folds for each of 18 candidates, totalling 90 fits\n"
     ]
    },
    {
     "name": "stderr",
     "output_type": "stream",
     "text": [
      "[Parallel(n_jobs=-1)]: Using backend LokyBackend with 4 concurrent workers.\n",
      "[Parallel(n_jobs=-1)]: Done  42 tasks      | elapsed:  2.8min\n",
      "[Parallel(n_jobs=-1)]: Done  90 out of  90 | elapsed:  4.4min finished\n"
     ]
    },
    {
     "name": "stdout",
     "output_type": "stream",
     "text": [
      "Best parameters: {'batch_size': 60, 'epochs': 10}\n",
      "Best cross-validation score: 0.00\n"
     ]
    }
   ],
   "source": [
    "model = KerasClassifier(build_fn = create_model, verbose = 0)\n",
    "\n",
    "param_grid = {'batch_size':[20,40,60,80,100,120] , 'epochs':[10, 50, 100]}\n",
    "grid_search = GridSearchCV(estimator= model, param_grid = param_grid, cv = 5, n_jobs = -1, verbose= True)\n",
    "\n",
    "grid_search_result = grid_search.fit(X_train, y_train)\n",
    "print(\"Best parameters: {}\".format(grid_search.best_params_))\n",
    "print(\"Best cross-validation score: {:.2f}\".format(grid_search.best_score_))"
   ]
  },
  {
   "cell_type": "markdown",
   "metadata": {},
   "source": [
    "__Step 1: Build the model__"
   ]
  },
  {
   "cell_type": "code",
   "execution_count": 179,
   "metadata": {},
   "outputs": [],
   "source": [
    "model = Sequential()\n",
    "\n",
    "#input layer\n",
    "model.add(Dense(10, input_dim = 20, activation = 'relu'))\n",
    "\n",
    "#hidden layer\n",
    "model.add(Dense(20, activation = 'sigmoid'))\n",
    "model.add(Dense(20, activation = 'sigmoid'))\n",
    "\n",
    "#output layer\n",
    "model.add(Dense(1))"
   ]
  },
  {
   "cell_type": "markdown",
   "metadata": {},
   "source": [
    "__Step 2:  Compile: create computational graph__"
   ]
  },
  {
   "cell_type": "code",
   "execution_count": 180,
   "metadata": {},
   "outputs": [],
   "source": [
    "model.compile(loss = 'mse', optimizer = 'sgd', metrics = ['mse'])"
   ]
  },
  {
   "cell_type": "markdown",
   "metadata": {},
   "source": [
    "__Step 3: Train the model__"
   ]
  },
  {
   "cell_type": "code",
   "execution_count": 181,
   "metadata": {},
   "outputs": [
    {
     "name": "stdout",
     "output_type": "stream",
     "text": [
      "Epoch 1/100\n",
      "2056/2056 [==============================] - 4s 2ms/step - loss: 715.9944 - mean_squared_error: 715.9944\n",
      "Epoch 2/100\n",
      "2056/2056 [==============================] - 0s 36us/step - loss: 90.2268 - mean_squared_error: 90.2268\n",
      "Epoch 3/100\n",
      "2056/2056 [==============================] - 0s 38us/step - loss: 88.4819 - mean_squared_error: 88.4819\n",
      "Epoch 4/100\n",
      "2056/2056 [==============================] - 0s 44us/step - loss: 81.1191 - mean_squared_error: 81.1191\n",
      "Epoch 5/100\n",
      "2056/2056 [==============================] - 0s 41us/step - loss: 63.8497 - mean_squared_error: 63.8497\n",
      "Epoch 6/100\n",
      "2056/2056 [==============================] - 0s 39us/step - loss: 52.8031 - mean_squared_error: 52.8031\n",
      "Epoch 7/100\n",
      "2056/2056 [==============================] - 0s 41us/step - loss: 36.2985 - mean_squared_error: 36.2985\n",
      "Epoch 8/100\n",
      "2056/2056 [==============================] - 0s 42us/step - loss: 37.6865 - mean_squared_error: 37.6865\n",
      "Epoch 9/100\n",
      "2056/2056 [==============================] - 0s 39us/step - loss: 33.0093 - mean_squared_error: 33.0093\n",
      "Epoch 10/100\n",
      "2056/2056 [==============================] - 0s 43us/step - loss: 24.0913 - mean_squared_error: 24.0913\n",
      "Epoch 11/100\n",
      "2056/2056 [==============================] - 0s 44us/step - loss: 25.3746 - mean_squared_error: 25.3746\n",
      "Epoch 12/100\n",
      "2056/2056 [==============================] - 0s 49us/step - loss: 22.5197 - mean_squared_error: 22.5197\n",
      "Epoch 13/100\n",
      "2056/2056 [==============================] - 0s 50us/step - loss: 24.2414 - mean_squared_error: 24.2414\n",
      "Epoch 14/100\n",
      "2056/2056 [==============================] - 0s 54us/step - loss: 22.7293 - mean_squared_error: 22.7293\n",
      "Epoch 15/100\n",
      "2056/2056 [==============================] - 0s 55us/step - loss: 20.7077 - mean_squared_error: 20.7077\n",
      "Epoch 16/100\n",
      "2056/2056 [==============================] - 0s 77us/step - loss: 24.7683 - mean_squared_error: 24.7683\n",
      "Epoch 17/100\n",
      "2056/2056 [==============================] - 0s 63us/step - loss: 17.3529 - mean_squared_error: 17.3529\n",
      "Epoch 18/100\n",
      "2056/2056 [==============================] - 0s 54us/step - loss: 22.2913 - mean_squared_error: 22.2913\n",
      "Epoch 19/100\n",
      "2056/2056 [==============================] - 0s 59us/step - loss: 20.6729 - mean_squared_error: 20.6729\n",
      "Epoch 20/100\n",
      "2056/2056 [==============================] - 0s 45us/step - loss: 19.7145 - mean_squared_error: 19.7145\n",
      "Epoch 21/100\n",
      "2056/2056 [==============================] - 0s 45us/step - loss: 20.3374 - mean_squared_error: 20.3374\n",
      "Epoch 22/100\n",
      "2056/2056 [==============================] - 0s 39us/step - loss: 16.3544 - mean_squared_error: 16.3544\n",
      "Epoch 23/100\n",
      "2056/2056 [==============================] - 0s 41us/step - loss: 18.3638 - mean_squared_error: 18.3638\n",
      "Epoch 24/100\n",
      "2056/2056 [==============================] - 0s 39us/step - loss: 21.6707 - mean_squared_error: 21.6707\n",
      "Epoch 25/100\n",
      "2056/2056 [==============================] - 0s 43us/step - loss: 17.9547 - mean_squared_error: 17.9547\n",
      "Epoch 26/100\n",
      "2056/2056 [==============================] - 0s 40us/step - loss: 16.7906 - mean_squared_error: 16.7906\n",
      "Epoch 27/100\n",
      "2056/2056 [==============================] - 0s 40us/step - loss: 19.0112 - mean_squared_error: 19.0112\n",
      "Epoch 28/100\n",
      "2056/2056 [==============================] - 0s 42us/step - loss: 16.9784 - mean_squared_error: 16.9784\n",
      "Epoch 29/100\n",
      "2056/2056 [==============================] - 0s 43us/step - loss: 17.8927 - mean_squared_error: 17.8927\n",
      "Epoch 30/100\n",
      "2056/2056 [==============================] - 0s 51us/step - loss: 16.6943 - mean_squared_error: 16.6943\n",
      "Epoch 31/100\n",
      "2056/2056 [==============================] - 0s 69us/step - loss: 18.3492 - mean_squared_error: 18.3492\n",
      "Epoch 32/100\n",
      "2056/2056 [==============================] - 0s 65us/step - loss: 19.2242 - mean_squared_error: 19.2242\n",
      "Epoch 33/100\n",
      "2056/2056 [==============================] - 0s 61us/step - loss: 16.5061 - mean_squared_error: 16.5061\n",
      "Epoch 34/100\n",
      "2056/2056 [==============================] - 0s 42us/step - loss: 15.7404 - mean_squared_error: 15.7404\n",
      "Epoch 35/100\n",
      "2056/2056 [==============================] - 0s 57us/step - loss: 15.9631 - mean_squared_error: 15.9631\n",
      "Epoch 36/100\n",
      "2056/2056 [==============================] - 0s 48us/step - loss: 17.0181 - mean_squared_error: 17.0181\n",
      "Epoch 37/100\n",
      "2056/2056 [==============================] - 0s 44us/step - loss: 20.3465 - mean_squared_error: 20.3465\n",
      "Epoch 38/100\n",
      "2056/2056 [==============================] - 0s 44us/step - loss: 18.4127 - mean_squared_error: 18.4127\n",
      "Epoch 39/100\n",
      "2056/2056 [==============================] - 0s 42us/step - loss: 14.5389 - mean_squared_error: 14.5389\n",
      "Epoch 40/100\n",
      "2056/2056 [==============================] - 0s 39us/step - loss: 17.3626 - mean_squared_error: 17.3626\n",
      "Epoch 41/100\n",
      "2056/2056 [==============================] - 0s 38us/step - loss: 16.1949 - mean_squared_error: 16.1949\n",
      "Epoch 42/100\n",
      "2056/2056 [==============================] - 0s 41us/step - loss: 16.9786 - mean_squared_error: 16.9786\n",
      "Epoch 43/100\n",
      "2056/2056 [==============================] - 0s 41us/step - loss: 14.0049 - mean_squared_error: 14.0049\n",
      "Epoch 44/100\n",
      "2056/2056 [==============================] - 0s 39us/step - loss: 19.3570 - mean_squared_error: 19.3570\n",
      "Epoch 45/100\n",
      "2056/2056 [==============================] - 0s 37us/step - loss: 15.3085 - mean_squared_error: 15.3085\n",
      "Epoch 46/100\n",
      "2056/2056 [==============================] - 0s 38us/step - loss: 15.4754 - mean_squared_error: 15.4754\n",
      "Epoch 47/100\n",
      "2056/2056 [==============================] - 0s 42us/step - loss: 13.5429 - mean_squared_error: 13.5429\n",
      "Epoch 48/100\n",
      "2056/2056 [==============================] - 0s 44us/step - loss: 13.5050 - mean_squared_error: 13.5050\n",
      "Epoch 49/100\n",
      "2056/2056 [==============================] - 0s 45us/step - loss: 16.9828 - mean_squared_error: 16.9828\n",
      "Epoch 50/100\n",
      "2056/2056 [==============================] - 0s 55us/step - loss: 17.4673 - mean_squared_error: 17.4673\n",
      "Epoch 51/100\n",
      "2056/2056 [==============================] - 0s 56us/step - loss: 17.1094 - mean_squared_error: 17.1094 0s - loss: 20.2927 - mean_squared_error: 20.29\n",
      "Epoch 52/100\n",
      "2056/2056 [==============================] - 0s 63us/step - loss: 14.9991 - mean_squared_error: 14.9991 0s - loss: 14.6310 - mean_squared_error: 14.\n",
      "Epoch 53/100\n",
      "2056/2056 [==============================] - 0s 50us/step - loss: 16.3507 - mean_squared_error: 16.3507\n",
      "Epoch 54/100\n",
      "2056/2056 [==============================] - 0s 44us/step - loss: 12.9786 - mean_squared_error: 12.9786\n",
      "Epoch 55/100\n",
      "2056/2056 [==============================] - 0s 38us/step - loss: 13.6333 - mean_squared_error: 13.6333\n",
      "Epoch 56/100\n",
      "2056/2056 [==============================] - 0s 45us/step - loss: 14.0816 - mean_squared_error: 14.0816\n",
      "Epoch 57/100\n",
      "2056/2056 [==============================] - 0s 40us/step - loss: 16.8690 - mean_squared_error: 16.8690\n",
      "Epoch 58/100\n",
      "2056/2056 [==============================] - 0s 36us/step - loss: 12.8269 - mean_squared_error: 12.8269\n",
      "Epoch 59/100\n",
      "2056/2056 [==============================] - 0s 40us/step - loss: 13.2348 - mean_squared_error: 13.2348\n",
      "Epoch 60/100\n",
      "2056/2056 [==============================] - 0s 34us/step - loss: 14.6952 - mean_squared_error: 14.6952\n",
      "Epoch 61/100\n",
      "2056/2056 [==============================] - 0s 40us/step - loss: 15.5334 - mean_squared_error: 15.5334\n",
      "Epoch 62/100\n",
      "2056/2056 [==============================] - 0s 38us/step - loss: 12.6372 - mean_squared_error: 12.6372\n",
      "Epoch 63/100\n",
      "2056/2056 [==============================] - 0s 36us/step - loss: 15.0357 - mean_squared_error: 15.0357\n",
      "Epoch 64/100\n",
      "2056/2056 [==============================] - 0s 39us/step - loss: 18.8417 - mean_squared_error: 18.8417\n",
      "Epoch 65/100\n",
      "2056/2056 [==============================] - 0s 34us/step - loss: 12.5385 - mean_squared_error: 12.5385\n",
      "Epoch 66/100\n",
      "2056/2056 [==============================] - 0s 40us/step - loss: 12.8821 - mean_squared_error: 12.8821\n",
      "Epoch 67/100\n",
      "2056/2056 [==============================] - 0s 49us/step - loss: 13.3506 - mean_squared_error: 13.3506\n",
      "Epoch 68/100\n",
      "2056/2056 [==============================] - 0s 61us/step - loss: 13.8602 - mean_squared_error: 13.8602\n",
      "Epoch 69/100\n",
      "2056/2056 [==============================] - 0s 60us/step - loss: 11.8253 - mean_squared_error: 11.8253\n",
      "Epoch 70/100\n"
     ]
    },
    {
     "name": "stdout",
     "output_type": "stream",
     "text": [
      "2056/2056 [==============================] - 0s 60us/step - loss: 12.5169 - mean_squared_error: 12.5169\n",
      "Epoch 71/100\n",
      "2056/2056 [==============================] - 0s 51us/step - loss: 20.1265 - mean_squared_error: 20.1265\n",
      "Epoch 72/100\n",
      "2056/2056 [==============================] - 0s 50us/step - loss: 17.2855 - mean_squared_error: 17.2855\n",
      "Epoch 73/100\n",
      "2056/2056 [==============================] - 0s 43us/step - loss: 13.0366 - mean_squared_error: 13.0366\n",
      "Epoch 74/100\n",
      "2056/2056 [==============================] - ETA: 0s - loss: 13.0214 - mean_squared_error: 13.02 - 0s 43us/step - loss: 12.9612 - mean_squared_error: 12.9612\n",
      "Epoch 75/100\n",
      "2056/2056 [==============================] - 0s 40us/step - loss: 18.3112 - mean_squared_error: 18.3112\n",
      "Epoch 76/100\n",
      "2056/2056 [==============================] - 0s 37us/step - loss: 13.4404 - mean_squared_error: 13.4404\n",
      "Epoch 77/100\n",
      "2056/2056 [==============================] - 0s 37us/step - loss: 14.7055 - mean_squared_error: 14.7055\n",
      "Epoch 78/100\n",
      "2056/2056 [==============================] - 0s 41us/step - loss: 14.4392 - mean_squared_error: 14.4392\n",
      "Epoch 79/100\n",
      "2056/2056 [==============================] - 0s 36us/step - loss: 12.4653 - mean_squared_error: 12.4653\n",
      "Epoch 80/100\n",
      "2056/2056 [==============================] - 0s 37us/step - loss: 14.0554 - mean_squared_error: 14.0554\n",
      "Epoch 81/100\n",
      "2056/2056 [==============================] - 0s 41us/step - loss: 12.3928 - mean_squared_error: 12.3928\n",
      "Epoch 82/100\n",
      "2056/2056 [==============================] - 0s 41us/step - loss: 13.0427 - mean_squared_error: 13.0427\n",
      "Epoch 83/100\n",
      "2056/2056 [==============================] - 0s 36us/step - loss: 12.6896 - mean_squared_error: 12.6896\n",
      "Epoch 84/100\n",
      "2056/2056 [==============================] - 0s 41us/step - loss: 17.6324 - mean_squared_error: 17.6324\n",
      "Epoch 85/100\n",
      "2056/2056 [==============================] - 0s 36us/step - loss: 14.7640 - mean_squared_error: 14.7640\n",
      "Epoch 86/100\n",
      "2056/2056 [==============================] - 0s 52us/step - loss: 14.2008 - mean_squared_error: 14.2008\n",
      "Epoch 87/100\n",
      "2056/2056 [==============================] - 0s 37us/step - loss: 12.9015 - mean_squared_error: 12.9015\n",
      "Epoch 88/100\n",
      "2056/2056 [==============================] - 0s 38us/step - loss: 12.8024 - mean_squared_error: 12.8024\n",
      "Epoch 89/100\n",
      "2056/2056 [==============================] - 0s 36us/step - loss: 15.3833 - mean_squared_error: 15.3833\n",
      "Epoch 90/100\n",
      "2056/2056 [==============================] - 0s 40us/step - loss: 13.8647 - mean_squared_error: 13.8647\n",
      "Epoch 91/100\n",
      "2056/2056 [==============================] - 0s 40us/step - loss: 12.6398 - mean_squared_error: 12.6398\n",
      "Epoch 92/100\n",
      "2056/2056 [==============================] - 0s 40us/step - loss: 13.6242 - mean_squared_error: 13.6242\n",
      "Epoch 93/100\n",
      "2056/2056 [==============================] - 0s 75us/step - loss: 13.4672 - mean_squared_error: 13.4672\n",
      "Epoch 94/100\n",
      "2056/2056 [==============================] - 0s 52us/step - loss: 12.5963 - mean_squared_error: 12.5963\n",
      "Epoch 95/100\n",
      "2056/2056 [==============================] - 0s 53us/step - loss: 12.8405 - mean_squared_error: 12.8405\n",
      "Epoch 96/100\n",
      "2056/2056 [==============================] - 0s 54us/step - loss: 12.6389 - mean_squared_error: 12.6389\n",
      "Epoch 97/100\n",
      "2056/2056 [==============================] - 0s 50us/step - loss: 12.8926 - mean_squared_error: 12.8926\n",
      "Epoch 98/100\n",
      "2056/2056 [==============================] - 0s 52us/step - loss: 12.5367 - mean_squared_error: 12.5367\n",
      "Epoch 99/100\n",
      "2056/2056 [==============================] - 0s 52us/step - loss: 12.3716 - mean_squared_error: 12.3716\n",
      "Epoch 100/100\n",
      "2056/2056 [==============================] - 0s 41us/step - loss: 12.8927 - mean_squared_error: 12.8927\n"
     ]
    },
    {
     "data": {
      "text/plain": [
       "<keras.callbacks.History at 0x18ec83dd278>"
      ]
     },
     "execution_count": 181,
     "metadata": {},
     "output_type": "execute_result"
    }
   ],
   "source": [
    "model.fit(X_train_NN_R, y_train, epochs = 100 , batch_size =120)"
   ]
  },
  {
   "cell_type": "code",
   "execution_count": 182,
   "metadata": {},
   "outputs": [
    {
     "name": "stdout",
     "output_type": "stream",
     "text": [
      "Train score: 83.3138%\n",
      "Test score: 81.7857%\n"
     ]
    }
   ],
   "source": [
    "from sklearn.metrics import r2_score\n",
    "y_train_pred = model.predict(X_train_NN_R)\n",
    "y_test_pred = model.predict(X_test_NN_R)\n",
    "\n",
    "print('Train score: {:.4f}%'.format(r2_score(y_train, y_train_pred)*100))\n",
    "print('Test score: {:.4f}%'.format(r2_score(y_test, y_test_pred)*100))"
   ]
  },
  {
   "cell_type": "markdown",
   "metadata": {},
   "source": [
    "__Step 4: Model Evaluation__"
   ]
  },
  {
   "cell_type": "code",
   "execution_count": 183,
   "metadata": {},
   "outputs": [
    {
     "name": "stdout",
     "output_type": "stream",
     "text": [
      "2056/2056 [==============================] - 2s 1ms/step\n"
     ]
    },
    {
     "data": {
      "text/plain": [
       "[15.319490599725032, 15.319490599725032]"
      ]
     },
     "execution_count": 183,
     "metadata": {},
     "output_type": "execute_result"
    }
   ],
   "source": [
    "model.evaluate(X_train_NN_R, y_train)"
   ]
  },
  {
   "cell_type": "code",
   "execution_count": 184,
   "metadata": {},
   "outputs": [
    {
     "name": "stdout",
     "output_type": "stream",
     "text": [
      "882/882 [==============================] - 0s 96us/step\n"
     ]
    },
    {
     "data": {
      "text/plain": [
       "[15.845118775659678, 15.845118775659678]"
      ]
     },
     "execution_count": 184,
     "metadata": {},
     "output_type": "execute_result"
    }
   ],
   "source": [
    "model.evaluate(X_test_NN_R, y_test)"
   ]
  },
  {
   "cell_type": "markdown",
   "metadata": {},
   "source": [
    "<h3>Neural Network - Perceptron model</h3>"
   ]
  },
  {
   "cell_type": "markdown",
   "metadata": {},
   "source": [
    "__1- Define Model__"
   ]
  },
  {
   "cell_type": "code",
   "execution_count": 185,
   "metadata": {},
   "outputs": [],
   "source": [
    "model = Sequential()\n",
    "model.add(Dense(20, input_dim = 20, kernel_initializer= 'normal', activation= 'relu'))\n",
    "model.add(Dense(1, kernel_initializer= 'normal'))"
   ]
  },
  {
   "cell_type": "markdown",
   "metadata": {},
   "source": [
    "__2- Compile Model__"
   ]
  },
  {
   "cell_type": "code",
   "execution_count": 186,
   "metadata": {},
   "outputs": [],
   "source": [
    "model.compile(loss = 'mse', optimizer= 'sgd', metrics= ['mse'])"
   ]
  },
  {
   "cell_type": "markdown",
   "metadata": {},
   "source": [
    "__3 - Fit Model__"
   ]
  },
  {
   "cell_type": "code",
   "execution_count": 188,
   "metadata": {},
   "outputs": [
    {
     "name": "stdout",
     "output_type": "stream",
     "text": [
      "Epoch 1/100\n",
      "2056/2056 [==============================] - 5s 2ms/step - loss: 1431.7475 - mean_squared_error: 1431.7475\n",
      "Epoch 2/100\n",
      "2056/2056 [==============================] - 0s 188us/step - loss: 118.5167 - mean_squared_error: 118.5167\n",
      "Epoch 3/100\n",
      "2056/2056 [==============================] - 0s 196us/step - loss: 92.2744 - mean_squared_error: 92.2744\n",
      "Epoch 4/100\n",
      "2056/2056 [==============================] - 0s 187us/step - loss: 71.8518 - mean_squared_error: 71.8518\n",
      "Epoch 5/100\n",
      "2056/2056 [==============================] - 0s 194us/step - loss: 33.0940 - mean_squared_error: 33.0940\n",
      "Epoch 6/100\n",
      "2056/2056 [==============================] - 1s 301us/step - loss: 25.4763 - mean_squared_error: 25.4763\n",
      "Epoch 7/100\n",
      "2056/2056 [==============================] - 1s 257us/step - loss: 23.3075 - mean_squared_error: 23.3075\n",
      "Epoch 8/100\n",
      "2056/2056 [==============================] - 0s 187us/step - loss: 21.8339 - mean_squared_error: 21.8339\n",
      "Epoch 9/100\n",
      "2056/2056 [==============================] - 0s 198us/step - loss: 21.7260 - mean_squared_error: 21.7260\n",
      "Epoch 10/100\n",
      "2056/2056 [==============================] - 0s 190us/step - loss: 20.7776 - mean_squared_error: 20.7776\n",
      "Epoch 11/100\n",
      "2056/2056 [==============================] - 0s 198us/step - loss: 20.0684 - mean_squared_error: 20.0684\n",
      "Epoch 12/100\n",
      "2056/2056 [==============================] - 0s 227us/step - loss: 20.4738 - mean_squared_error: 20.4738\n",
      "Epoch 13/100\n",
      "2056/2056 [==============================] - 1s 247us/step - loss: 18.6921 - mean_squared_error: 18.6921\n",
      "Epoch 14/100\n",
      "2056/2056 [==============================] - 1s 281us/step - loss: 19.7252 - mean_squared_error: 19.7252\n",
      "Epoch 15/100\n",
      "2056/2056 [==============================] - 0s 212us/step - loss: 19.2136 - mean_squared_error: 19.2136\n",
      "Epoch 16/100\n",
      "2056/2056 [==============================] - 0s 210us/step - loss: 19.3052 - mean_squared_error: 19.3052\n",
      "Epoch 17/100\n",
      "2056/2056 [==============================] - 0s 184us/step - loss: 18.5584 - mean_squared_error: 18.5584\n",
      "Epoch 18/100\n",
      "2056/2056 [==============================] - 0s 197us/step - loss: 18.5440 - mean_squared_error: 18.5440\n",
      "Epoch 19/100\n",
      "2056/2056 [==============================] - 0s 199us/step - loss: 18.7726 - mean_squared_error: 18.7726\n",
      "Epoch 20/100\n",
      "2056/2056 [==============================] - 1s 252us/step - loss: 19.1873 - mean_squared_error: 19.1873\n",
      "Epoch 21/100\n",
      "2056/2056 [==============================] - 0s 236us/step - loss: 19.0783 - mean_squared_error: 19.0783\n",
      "Epoch 22/100\n",
      "2056/2056 [==============================] - 0s 220us/step - loss: 18.3305 - mean_squared_error: 18.3305\n",
      "Epoch 23/100\n",
      "2056/2056 [==============================] - 0s 188us/step - loss: 18.1357 - mean_squared_error: 18.1357\n",
      "Epoch 24/100\n",
      "2056/2056 [==============================] - 0s 185us/step - loss: 18.4530 - mean_squared_error: 18.4530\n",
      "Epoch 25/100\n",
      "2056/2056 [==============================] - 0s 185us/step - loss: 19.6230 - mean_squared_error: 19.6230\n",
      "Epoch 26/100\n",
      "2056/2056 [==============================] - 0s 185us/step - loss: 18.1451 - mean_squared_error: 18.1451\n",
      "Epoch 27/100\n",
      "2056/2056 [==============================] - 0s 198us/step - loss: 18.5580 - mean_squared_error: 18.5580\n",
      "Epoch 28/100\n",
      "2056/2056 [==============================] - 0s 201us/step - loss: 18.4569 - mean_squared_error: 18.4569\n",
      "Epoch 29/100\n",
      "2056/2056 [==============================] - 0s 194us/step - loss: 19.1629 - mean_squared_error: 19.1629\n",
      "Epoch 30/100\n",
      "2056/2056 [==============================] - 0s 188us/step - loss: 18.6133 - mean_squared_error: 18.6133\n",
      "Epoch 31/100\n",
      "2056/2056 [==============================] - 0s 193us/step - loss: 17.8640 - mean_squared_error: 17.8640\n",
      "Epoch 32/100\n",
      "2056/2056 [==============================] - 1s 324us/step - loss: 18.0905 - mean_squared_error: 18.0905\n",
      "Epoch 33/100\n",
      "2056/2056 [==============================] - 0s 230us/step - loss: 18.0301 - mean_squared_error: 18.0301\n",
      "Epoch 34/100\n",
      "2056/2056 [==============================] - 0s 225us/step - loss: 19.1487 - mean_squared_error: 19.1487\n",
      "Epoch 35/100\n",
      "2056/2056 [==============================] - 0s 213us/step - loss: 18.3936 - mean_squared_error: 18.3936\n",
      "Epoch 36/100\n",
      "2056/2056 [==============================] - 1s 252us/step - loss: 18.1201 - mean_squared_error: 18.1201\n",
      "Epoch 37/100\n",
      "2056/2056 [==============================] - 0s 220us/step - loss: 18.0997 - mean_squared_error: 18.0997\n",
      "Epoch 38/100\n",
      "2056/2056 [==============================] - 0s 222us/step - loss: 17.8219 - mean_squared_error: 17.8219\n",
      "Epoch 39/100\n",
      "2056/2056 [==============================] - 0s 223us/step - loss: 18.1050 - mean_squared_error: 18.1050\n",
      "Epoch 40/100\n",
      "2056/2056 [==============================] - 0s 225us/step - loss: 17.5741 - mean_squared_error: 17.5741\n",
      "Epoch 41/100\n",
      "2056/2056 [==============================] - 0s 218us/step - loss: 17.8245 - mean_squared_error: 17.8245\n",
      "Epoch 42/100\n",
      "2056/2056 [==============================] - 0s 236us/step - loss: 17.7441 - mean_squared_error: 17.7441\n",
      "Epoch 43/100\n",
      "2056/2056 [==============================] - 1s 271us/step - loss: 18.0512 - mean_squared_error: 18.0512\n",
      "Epoch 44/100\n",
      "2056/2056 [==============================] - 1s 309us/step - loss: 18.7648 - mean_squared_error: 18.76480s - loss: 13.9633 - mean_squa\n",
      "Epoch 45/100\n",
      "2056/2056 [==============================] - 0s 214us/step - loss: 18.0434 - mean_squared_error: 18.0434\n",
      "Epoch 46/100\n",
      "2056/2056 [==============================] - 0s 220us/step - loss: 18.0933 - mean_squared_error: 18.0933\n",
      "Epoch 47/100\n",
      "2056/2056 [==============================] - 1s 244us/step - loss: 18.2576 - mean_squared_error: 18.2576\n",
      "Epoch 48/100\n",
      "2056/2056 [==============================] - 0s 233us/step - loss: 17.8549 - mean_squared_error: 17.8549\n",
      "Epoch 49/100\n",
      "2056/2056 [==============================] - 0s 229us/step - loss: 18.0422 - mean_squared_error: 18.0422\n",
      "Epoch 50/100\n",
      "2056/2056 [==============================] - 0s 229us/step - loss: 18.0051 - mean_squared_error: 18.0051\n",
      "Epoch 51/100\n",
      "2056/2056 [==============================] - 0s 220us/step - loss: 17.8728 - mean_squared_error: 17.8728\n",
      "Epoch 52/100\n",
      "2056/2056 [==============================] - 1s 245us/step - loss: 18.0281 - mean_squared_error: 18.0281\n",
      "Epoch 53/100\n",
      "2056/2056 [==============================] - 0s 236us/step - loss: 18.1771 - mean_squared_error: 18.1771\n",
      "Epoch 54/100\n",
      "2056/2056 [==============================] - 0s 235us/step - loss: 17.6239 - mean_squared_error: 17.6239\n",
      "Epoch 55/100\n",
      "2056/2056 [==============================] - 0s 232us/step - loss: 17.9327 - mean_squared_error: 17.9327\n",
      "Epoch 56/100\n",
      "2056/2056 [==============================] - 1s 266us/step - loss: 18.4783 - mean_squared_error: 18.4783\n",
      "Epoch 57/100\n",
      "2056/2056 [==============================] - 0s 189us/step - loss: 18.4606 - mean_squared_error: 18.4606\n",
      "Epoch 58/100\n",
      "2056/2056 [==============================] - 0s 199us/step - loss: 17.8251 - mean_squared_error: 17.8251\n",
      "Epoch 59/100\n",
      "2056/2056 [==============================] - 0s 198us/step - loss: 18.1776 - mean_squared_error: 18.1776\n",
      "Epoch 60/100\n",
      "2056/2056 [==============================] - 0s 193us/step - loss: 18.2011 - mean_squared_error: 18.2011\n",
      "Epoch 61/100\n",
      "2056/2056 [==============================] - 0s 193us/step - loss: 17.8633 - mean_squared_error: 17.8633\n",
      "Epoch 62/100\n",
      "2056/2056 [==============================] - 0s 195us/step - loss: 18.0338 - mean_squared_error: 18.0338\n",
      "Epoch 63/100\n",
      "2056/2056 [==============================] - 0s 180us/step - loss: 18.6498 - mean_squared_error: 18.6498\n",
      "Epoch 64/100\n",
      "2056/2056 [==============================] - 0s 191us/step - loss: 18.3598 - mean_squared_error: 18.3598\n",
      "Epoch 65/100\n",
      "2056/2056 [==============================] - 0s 194us/step - loss: 17.8973 - mean_squared_error: 17.8973\n",
      "Epoch 66/100\n",
      "2056/2056 [==============================] - 0s 183us/step - loss: 18.3215 - mean_squared_error: 18.3215\n",
      "Epoch 67/100\n",
      "2056/2056 [==============================] - 0s 188us/step - loss: 17.8434 - mean_squared_error: 17.8434\n",
      "Epoch 68/100\n",
      "2056/2056 [==============================] - 0s 184us/step - loss: 18.1901 - mean_squared_error: 18.1901\n",
      "Epoch 69/100\n",
      "2056/2056 [==============================] - 0s 191us/step - loss: 17.7764 - mean_squared_error: 17.7764\n",
      "Epoch 70/100\n"
     ]
    },
    {
     "name": "stdout",
     "output_type": "stream",
     "text": [
      "2056/2056 [==============================] - 0s 183us/step - loss: 18.4138 - mean_squared_error: 18.4138\n",
      "Epoch 71/100\n",
      "2056/2056 [==============================] - 0s 179us/step - loss: 18.1202 - mean_squared_error: 18.1202\n",
      "Epoch 72/100\n",
      "2056/2056 [==============================] - 0s 180us/step - loss: 18.1638 - mean_squared_error: 18.1638\n",
      "Epoch 73/100\n",
      "2056/2056 [==============================] - 0s 178us/step - loss: 17.8548 - mean_squared_error: 17.8548\n",
      "Epoch 74/100\n",
      "2056/2056 [==============================] - 0s 176us/step - loss: 17.8484 - mean_squared_error: 17.8484\n",
      "Epoch 75/100\n",
      "2056/2056 [==============================] - 0s 186us/step - loss: 18.0783 - mean_squared_error: 18.0783\n",
      "Epoch 76/100\n",
      "2056/2056 [==============================] - 0s 180us/step - loss: 18.0489 - mean_squared_error: 18.0489\n",
      "Epoch 77/100\n",
      "2056/2056 [==============================] - 0s 187us/step - loss: 17.8309 - mean_squared_error: 17.8309\n",
      "Epoch 78/100\n",
      "2056/2056 [==============================] - 0s 187us/step - loss: 18.1367 - mean_squared_error: 18.1367\n",
      "Epoch 79/100\n",
      "2056/2056 [==============================] - 0s 184us/step - loss: 17.8061 - mean_squared_error: 17.8061\n",
      "Epoch 80/100\n",
      "2056/2056 [==============================] - 0s 195us/step - loss: 17.8325 - mean_squared_error: 17.8325\n",
      "Epoch 81/100\n",
      "2056/2056 [==============================] - 0s 234us/step - loss: 17.8796 - mean_squared_error: 17.8796\n",
      "Epoch 82/100\n",
      "2056/2056 [==============================] - 0s 241us/step - loss: 18.3092 - mean_squared_error: 18.3092\n",
      "Epoch 83/100\n",
      "2056/2056 [==============================] - 0s 193us/step - loss: 17.7786 - mean_squared_error: 17.7786\n",
      "Epoch 84/100\n",
      "2056/2056 [==============================] - 0s 177us/step - loss: 18.1375 - mean_squared_error: 18.1375\n",
      "Epoch 85/100\n",
      "2056/2056 [==============================] - 0s 180us/step - loss: 18.1019 - mean_squared_error: 18.1019\n",
      "Epoch 86/100\n",
      "2056/2056 [==============================] - 0s 182us/step - loss: 18.4562 - mean_squared_error: 18.4562\n",
      "Epoch 87/100\n",
      "2056/2056 [==============================] - 0s 176us/step - loss: 18.0458 - mean_squared_error: 18.0458\n",
      "Epoch 88/100\n",
      "2056/2056 [==============================] - 0s 179us/step - loss: 18.4209 - mean_squared_error: 18.4209\n",
      "Epoch 89/100\n",
      "2056/2056 [==============================] - 0s 178us/step - loss: 17.8947 - mean_squared_error: 17.8947\n",
      "Epoch 90/100\n",
      "2056/2056 [==============================] - 0s 179us/step - loss: 18.8435 - mean_squared_error: 18.8435\n",
      "Epoch 91/100\n",
      "2056/2056 [==============================] - 0s 176us/step - loss: 18.4235 - mean_squared_error: 18.4235\n",
      "Epoch 92/100\n",
      "2056/2056 [==============================] - 0s 172us/step - loss: 17.4463 - mean_squared_error: 17.4463\n",
      "Epoch 93/100\n",
      "2056/2056 [==============================] - 0s 179us/step - loss: 17.8879 - mean_squared_error: 17.8879\n",
      "Epoch 94/100\n",
      "2056/2056 [==============================] - 0s 175us/step - loss: 18.0577 - mean_squared_error: 18.0577\n",
      "Epoch 95/100\n",
      "2056/2056 [==============================] - 0s 179us/step - loss: 17.7123 - mean_squared_error: 17.7123\n",
      "Epoch 96/100\n",
      "2056/2056 [==============================] - 0s 178us/step - loss: 17.8062 - mean_squared_error: 17.8062\n",
      "Epoch 97/100\n",
      "2056/2056 [==============================] - 0s 194us/step - loss: 18.3582 - mean_squared_error: 18.3582\n",
      "Epoch 98/100\n",
      "2056/2056 [==============================] - 0s 179us/step - loss: 17.6142 - mean_squared_error: 17.6142\n",
      "Epoch 99/100\n",
      "2056/2056 [==============================] - 0s 172us/step - loss: 17.9361 - mean_squared_error: 17.9361\n",
      "Epoch 100/100\n",
      "2056/2056 [==============================] - 0s 198us/step - loss: 18.5673 - mean_squared_error: 18.5673\n"
     ]
    },
    {
     "data": {
      "text/plain": [
       "<keras.callbacks.History at 0x18ecae5ce48>"
      ]
     },
     "execution_count": 188,
     "metadata": {},
     "output_type": "execute_result"
    }
   ],
   "source": [
    "model.fit(X_train_NN_R, y_train, epochs= 100, batch_size= 20)"
   ]
  },
  {
   "cell_type": "markdown",
   "metadata": {},
   "source": [
    "__4 - Evaluate model__"
   ]
  },
  {
   "cell_type": "code",
   "execution_count": 189,
   "metadata": {},
   "outputs": [
    {
     "name": "stdout",
     "output_type": "stream",
     "text": [
      "882/882 [==============================] - 2s 2ms/step\n"
     ]
    },
    {
     "data": {
      "text/plain": [
       "[18.628606381059505, 18.628606381059505]"
      ]
     },
     "execution_count": 189,
     "metadata": {},
     "output_type": "execute_result"
    }
   ],
   "source": [
    "model.evaluate(X_test_NN_R, y_test)"
   ]
  },
  {
   "cell_type": "code",
   "execution_count": 191,
   "metadata": {},
   "outputs": [
    {
     "name": "stdout",
     "output_type": "stream",
     "text": [
      "Train score: 80.17%\n",
      "Test score: 78.59%\n"
     ]
    }
   ],
   "source": [
    "from sklearn.metrics import r2_score, recall_score, precision_score\n",
    "\n",
    "y_train_predict = model.predict(X_train_NN_R)\n",
    "y_test_predict = model.predict(X_test_NN_R)\n",
    "\n",
    "print('Train score: {:.2f}%'.format(r2_score(y_train, y_train_predict)*100))\n",
    "print('Test score: {:.2f}%'.format(r2_score(y_test, y_test_predict)*100))"
   ]
  },
  {
   "cell_type": "markdown",
   "metadata": {},
   "source": [
    "<center><b>___________________________________________________________________________________________________________</b></center>"
   ]
  },
  {
   "cell_type": "markdown",
   "metadata": {},
   "source": [
    "<center><h1 style=\"font-size:30px; LINE-HEIGHT:0px\">Classification Task<h1 style=\"font-size:30px; LINE-HEIGHT:0px\"></center>"
   ]
  },
  {
   "cell_type": "markdown",
   "metadata": {},
   "source": [
    "__About the dataset__\n",
    "\n",
    "<p>This dataset contains information on default payments, demographic factors, credit data, history of payment, and bill statements of credit card clients in Taiwan from April 2005 to September 2005.</p>\n",
    "\n",
    "<p>This dataset includes over 30,000 records and 25 attributes.</p>\n",
    "\n",
    "<h3>Columns</h3>\n",
    "\n",
    "   1. ID : ID of each client\n",
    "   2. LIMIT_BAL : Amount of given credit in NT dollars (includes individual and family/supplementary credit\n",
    "   3. SEX</b> : Gender (1=male, 2=female)\n",
    "   4. EDUCATION</b> : (1=graduate school, 2=university, 3=high school, 4=others, 5=unknown, 6=unknown)\n",
    "   5. MARRIAGE</b> : Marital status (1=married, 2=single, 3=others)\n",
    "   6. AGE</b> : Age in years\n",
    "   7. PAY_0</b> : Repayment status in September, 2005 (-1=pay duly, 1=payment delay for one month, 2=payment delay for two months, ... 8=payment delay for eight months, 9=payment delay for nine months and above)\n",
    "   8. PAY_2</b> : Repayment status in August, 2005 (scale same as above)\n",
    "   9. PAY_3</b> : Repayment status in July, 2005 (scale same as above)\n",
    "   10. PAY_4</b> : Repayment status in June, 2005 (scale same as above)\n",
    "   11. PAY_5</b> : Repayment status in May, 2005 (scale same as above)\n",
    "   12. PAY_6</b> : Repayment status in April, 2005 (scale same as above)\n",
    "   13. BILL_AMT1</b> : Amount of bill statement in September, 2005 (NT dollar)\n",
    "   14. BILL_AMT2</b> : Amount of bill statement in August, 2005 (NT dollar)\n",
    "   15. BILL_AMT3</b> : Amount of bill statement in July, 2005 (NT dollar)\n",
    "   16. BILL_AMT4</b> : Amount of bill statement in June, 2005 (NT dollar)\n",
    "   17. BILL_AMT5</b> : Amount of bill statement in May, 2005 (NT dollar)\n",
    "   18. BILL_AMT6</b> : Amount of bill statement in April, 2005 (NT dollar)\n",
    "   19. PAY_AMT1</b> : Amount of previous payment in September, 2005 (NT dollar)\n",
    "   20. PAY_AMT2</b> : Amount of previous payment in August, 2005 (NT dollar)\n",
    "   21. PAY_AMT3</b> : Amount of previous payment in July, 2005 (NT dollar)\n",
    "   22. PAY_AMT4</b> : Amount of previous payment in June, 2005 (NT dollar)\n",
    "   23. PAY_AMT5</b> :  Amount of previous payment in May, 2005 (NT dollar)\n",
    "   24. PAY_AMT6</b> : Amount of previous payment in April, 2005 (NT dollar)\n",
    "   25. default.payment.next.month : Default payment (1=yes, 0=no)"
   ]
  },
  {
   "cell_type": "markdown",
   "metadata": {},
   "source": [
    "__Source of Dataset__: \n",
    "https://archive.ics.uci.edu/ml/datasets/default+of+credit+card+clients"
   ]
  },
  {
   "cell_type": "markdown",
   "metadata": {},
   "source": [
    "<h2>Load Data</h2> \n",
    "\n",
    "__EDA and data preprocessing was handled in project 1, so we are simply importing the prepared data for use in project 2__"
   ]
  },
  {
   "cell_type": "raw",
   "metadata": {},
   "source": [
    "credit_updated = pd.read_csv(\"credit_csv.csv\")"
   ]
  },
  {
   "cell_type": "code",
   "execution_count": 195,
   "metadata": {},
   "outputs": [
    {
     "data": {
      "text/plain": [
       "(30000, 24)"
      ]
     },
     "execution_count": 195,
     "metadata": {},
     "output_type": "execute_result"
    }
   ],
   "source": [
    "credit_updated.shape"
   ]
  },
  {
   "cell_type": "code",
   "execution_count": 196,
   "metadata": {},
   "outputs": [
    {
     "data": {
      "text/html": [
       "<div>\n",
       "<style scoped>\n",
       "    .dataframe tbody tr th:only-of-type {\n",
       "        vertical-align: middle;\n",
       "    }\n",
       "\n",
       "    .dataframe tbody tr th {\n",
       "        vertical-align: top;\n",
       "    }\n",
       "\n",
       "    .dataframe thead th {\n",
       "        text-align: right;\n",
       "    }\n",
       "</style>\n",
       "<table border=\"1\" class=\"dataframe\">\n",
       "  <thead>\n",
       "    <tr style=\"text-align: right;\">\n",
       "      <th></th>\n",
       "      <th>LIMIT_BAL</th>\n",
       "      <th>SEX</th>\n",
       "      <th>EDUCATION</th>\n",
       "      <th>MARRIAGE</th>\n",
       "      <th>AGE</th>\n",
       "      <th>PAY_1</th>\n",
       "      <th>PAY_2</th>\n",
       "      <th>PAY_3</th>\n",
       "      <th>PAY_4</th>\n",
       "      <th>PAY_5</th>\n",
       "      <th>...</th>\n",
       "      <th>BILL_AMT4</th>\n",
       "      <th>BILL_AMT5</th>\n",
       "      <th>BILL_AMT6</th>\n",
       "      <th>PAY_AMT1</th>\n",
       "      <th>PAY_AMT2</th>\n",
       "      <th>PAY_AMT3</th>\n",
       "      <th>PAY_AMT4</th>\n",
       "      <th>PAY_AMT5</th>\n",
       "      <th>PAY_AMT6</th>\n",
       "      <th>Is_Default</th>\n",
       "    </tr>\n",
       "  </thead>\n",
       "  <tbody>\n",
       "    <tr>\n",
       "      <th>0</th>\n",
       "      <td>20000</td>\n",
       "      <td>2</td>\n",
       "      <td>2</td>\n",
       "      <td>1</td>\n",
       "      <td>24</td>\n",
       "      <td>2.0</td>\n",
       "      <td>2.0</td>\n",
       "      <td>-1.0</td>\n",
       "      <td>-1.0</td>\n",
       "      <td>-2.0</td>\n",
       "      <td>...</td>\n",
       "      <td>0.0</td>\n",
       "      <td>0.0</td>\n",
       "      <td>0.0</td>\n",
       "      <td>0.0</td>\n",
       "      <td>689.0</td>\n",
       "      <td>0.0</td>\n",
       "      <td>0.000000</td>\n",
       "      <td>4787.827744</td>\n",
       "      <td>0.0</td>\n",
       "      <td>1.0</td>\n",
       "    </tr>\n",
       "    <tr>\n",
       "      <th>1</th>\n",
       "      <td>120000</td>\n",
       "      <td>2</td>\n",
       "      <td>2</td>\n",
       "      <td>2</td>\n",
       "      <td>26</td>\n",
       "      <td>-1.0</td>\n",
       "      <td>2.0</td>\n",
       "      <td>0.0</td>\n",
       "      <td>0.0</td>\n",
       "      <td>0.0</td>\n",
       "      <td>...</td>\n",
       "      <td>3272.0</td>\n",
       "      <td>3455.0</td>\n",
       "      <td>3261.0</td>\n",
       "      <td>0.0</td>\n",
       "      <td>1000.0</td>\n",
       "      <td>1000.0</td>\n",
       "      <td>4811.208696</td>\n",
       "      <td>0.000000</td>\n",
       "      <td>2000.0</td>\n",
       "      <td>1.0</td>\n",
       "    </tr>\n",
       "    <tr>\n",
       "      <th>2</th>\n",
       "      <td>90000</td>\n",
       "      <td>2</td>\n",
       "      <td>2</td>\n",
       "      <td>2</td>\n",
       "      <td>34</td>\n",
       "      <td>0.0</td>\n",
       "      <td>0.0</td>\n",
       "      <td>0.0</td>\n",
       "      <td>0.0</td>\n",
       "      <td>0.0</td>\n",
       "      <td>...</td>\n",
       "      <td>14331.0</td>\n",
       "      <td>14948.0</td>\n",
       "      <td>15549.0</td>\n",
       "      <td>1518.0</td>\n",
       "      <td>1500.0</td>\n",
       "      <td>1000.0</td>\n",
       "      <td>1000.000000</td>\n",
       "      <td>1000.000000</td>\n",
       "      <td>5000.0</td>\n",
       "      <td>0.0</td>\n",
       "    </tr>\n",
       "    <tr>\n",
       "      <th>3</th>\n",
       "      <td>50000</td>\n",
       "      <td>2</td>\n",
       "      <td>2</td>\n",
       "      <td>1</td>\n",
       "      <td>37</td>\n",
       "      <td>0.0</td>\n",
       "      <td>0.0</td>\n",
       "      <td>0.0</td>\n",
       "      <td>0.0</td>\n",
       "      <td>0.0</td>\n",
       "      <td>...</td>\n",
       "      <td>28314.0</td>\n",
       "      <td>28959.0</td>\n",
       "      <td>29547.0</td>\n",
       "      <td>2000.0</td>\n",
       "      <td>2019.0</td>\n",
       "      <td>1200.0</td>\n",
       "      <td>1100.000000</td>\n",
       "      <td>1069.000000</td>\n",
       "      <td>1000.0</td>\n",
       "      <td>0.0</td>\n",
       "    </tr>\n",
       "    <tr>\n",
       "      <th>4</th>\n",
       "      <td>50000</td>\n",
       "      <td>1</td>\n",
       "      <td>2</td>\n",
       "      <td>1</td>\n",
       "      <td>57</td>\n",
       "      <td>-1.0</td>\n",
       "      <td>0.0</td>\n",
       "      <td>-1.0</td>\n",
       "      <td>0.0</td>\n",
       "      <td>0.0</td>\n",
       "      <td>...</td>\n",
       "      <td>20940.0</td>\n",
       "      <td>19146.0</td>\n",
       "      <td>19131.0</td>\n",
       "      <td>2000.0</td>\n",
       "      <td>36681.0</td>\n",
       "      <td>10000.0</td>\n",
       "      <td>9000.000000</td>\n",
       "      <td>689.000000</td>\n",
       "      <td>679.0</td>\n",
       "      <td>0.0</td>\n",
       "    </tr>\n",
       "  </tbody>\n",
       "</table>\n",
       "<p>5 rows × 24 columns</p>\n",
       "</div>"
      ],
      "text/plain": [
       "   LIMIT_BAL  SEX  EDUCATION  MARRIAGE  AGE  PAY_1  PAY_2  PAY_3  PAY_4  \\\n",
       "0      20000    2          2         1   24    2.0    2.0   -1.0   -1.0   \n",
       "1     120000    2          2         2   26   -1.0    2.0    0.0    0.0   \n",
       "2      90000    2          2         2   34    0.0    0.0    0.0    0.0   \n",
       "3      50000    2          2         1   37    0.0    0.0    0.0    0.0   \n",
       "4      50000    1          2         1   57   -1.0    0.0   -1.0    0.0   \n",
       "\n",
       "   PAY_5  ...  BILL_AMT4  BILL_AMT5  BILL_AMT6  PAY_AMT1  PAY_AMT2  PAY_AMT3  \\\n",
       "0   -2.0  ...        0.0        0.0        0.0       0.0     689.0       0.0   \n",
       "1    0.0  ...     3272.0     3455.0     3261.0       0.0    1000.0    1000.0   \n",
       "2    0.0  ...    14331.0    14948.0    15549.0    1518.0    1500.0    1000.0   \n",
       "3    0.0  ...    28314.0    28959.0    29547.0    2000.0    2019.0    1200.0   \n",
       "4    0.0  ...    20940.0    19146.0    19131.0    2000.0   36681.0   10000.0   \n",
       "\n",
       "      PAY_AMT4     PAY_AMT5  PAY_AMT6  Is_Default  \n",
       "0     0.000000  4787.827744       0.0         1.0  \n",
       "1  4811.208696     0.000000    2000.0         1.0  \n",
       "2  1000.000000  1000.000000    5000.0         0.0  \n",
       "3  1100.000000  1069.000000    1000.0         0.0  \n",
       "4  9000.000000   689.000000     679.0         0.0  \n",
       "\n",
       "[5 rows x 24 columns]"
      ]
     },
     "execution_count": 196,
     "metadata": {},
     "output_type": "execute_result"
    }
   ],
   "source": [
    "credit_updated.head()"
   ]
  },
  {
   "cell_type": "code",
   "execution_count": 197,
   "metadata": {},
   "outputs": [],
   "source": [
    "X = credit_updated.drop(['Is_Default'],axis =1)\n",
    "y = credit_updated['Is_Default']\n",
    "\n",
    "X_train_org, X_test_org, y_train, y_test = train_test_split(X ,y, random_state = 0, test_size = 0.3)\n",
    "\n",
    "scaler = MinMaxScaler()\n",
    "X_train = scaler.fit_transform(X_train_org)\n",
    "X_test = scaler.transform(X_test_org)"
   ]
  },
  {
   "cell_type": "code",
   "execution_count": null,
   "metadata": {},
   "outputs": [],
   "source": []
  }
 ],
 "metadata": {
  "kernelspec": {
   "display_name": "Python 3",
   "language": "python",
   "name": "python3"
  },
  "language_info": {
   "codemirror_mode": {
    "name": "ipython",
    "version": 3
   },
   "file_extension": ".py",
   "mimetype": "text/x-python",
   "name": "python",
   "nbconvert_exporter": "python",
   "pygments_lexer": "ipython3",
   "version": "3.6.5"
  }
 },
 "nbformat": 4,
 "nbformat_minor": 2
}
